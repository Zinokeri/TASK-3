{
 "cells": [
  {
   "cell_type": "markdown",
   "id": "50338774-ec00-4819-ba18-9d6499a27508",
   "metadata": {},
   "source": [
    "## TASK 2"
   ]
  },
  {
   "cell_type": "markdown",
   "id": "6bd7afbf-8598-4663-b773-6e493985e8dc",
   "metadata": {},
   "source": [
    "## 1. Student Grading System"
   ]
  },
  {
   "cell_type": "code",
   "execution_count": 16,
   "id": "c33810cd-a104-4997-be40-3e0f918fc099",
   "metadata": {},
   "outputs": [],
   "source": [
    "# Function to assign grade based on score"
   ]
  },
  {
   "cell_type": "code",
   "execution_count": 17,
   "id": "85cbeee8-4e04-47d7-b9c6-4c9c6fa25c54",
   "metadata": {},
   "outputs": [],
   "source": [
    "def assign_grade(score):\n",
    "    if 90 <= score <= 100:\n",
    "        return \"A\"\n",
    "    elif 80 <= score < 90:\n",
    "        return \"B\"\n",
    "    elif 70 <= score < 80:\n",
    "        return \"C\"\n",
    "    elif 60 <= score < 70:\n",
    "        return \"D\"\n",
    "    else:\n",
    "        return \"F\""
   ]
  },
  {
   "cell_type": "code",
   "execution_count": 18,
   "id": "d2915262-b573-40cd-a109-0eddad97b04d",
   "metadata": {},
   "outputs": [],
   "source": [
    "# Ask user for their score"
   ]
  },
  {
   "cell_type": "code",
   "execution_count": 20,
   "id": "4370b390-83f7-48a5-8009-cd3100ae1d09",
   "metadata": {},
   "outputs": [
    {
     "name": "stdin",
     "output_type": "stream",
     "text": [
      "Enter your score (0 - 100):  90\n"
     ]
    },
    {
     "name": "stdout",
     "output_type": "stream",
     "text": [
      "Your grade is: A\n"
     ]
    }
   ],
   "source": [
    "try:\n",
    "    score = int(input(\"Enter your score (0 - 100): \"))\n",
    "    if 0 <= score <= 100:\n",
    "        grade = assign_grade(score)\n",
    "        print(f\"Your grade is: {grade}\")\n",
    "    else:\n",
    "        print(\"Score must be between 0 and 100.\")\n",
    "except ValueError:\n",
    "    print(\"Invalid input. Please enter a numeric value.\")"
   ]
  },
  {
   "cell_type": "code",
   "execution_count": null,
   "id": "02b32f55-c8b3-4a42-a51e-43aaee760307",
   "metadata": {},
   "outputs": [],
   "source": []
  },
  {
   "cell_type": "markdown",
   "id": "06f3d428-d665-4ec7-b0b1-2036ddd473e2",
   "metadata": {},
   "source": [
    "## 2. Simple Number Game"
   ]
  },
  {
   "cell_type": "code",
   "execution_count": 8,
   "id": "c68559cd-7e08-4b5d-bf77-f3625b16e9e4",
   "metadata": {},
   "outputs": [],
   "source": [
    "import random\n",
    "\n",
    "# Generate secret number between 1 and 10\n",
    "secret_number = random.randint(1, 10)\n",
    "attempts = 3"
   ]
  },
  {
   "cell_type": "code",
   "execution_count": 21,
   "id": "c52f37df-4d7f-48cb-b877-d5dd35a2df76",
   "metadata": {},
   "outputs": [
    {
     "name": "stdout",
     "output_type": "stream",
     "text": [
      "Guess the secret number between 1 and 10. You have 3 attempts.\n"
     ]
    },
    {
     "name": "stdin",
     "output_type": "stream",
     "text": [
      "Attempt 1:  5\n"
     ]
    },
    {
     "name": "stdout",
     "output_type": "stream",
     "text": [
      "Wrong guess. Try again.\n"
     ]
    },
    {
     "name": "stdin",
     "output_type": "stream",
     "text": [
      "Attempt 2:  9\n"
     ]
    },
    {
     "name": "stdout",
     "output_type": "stream",
     "text": [
      "Wrong guess. Try again.\n"
     ]
    },
    {
     "name": "stdin",
     "output_type": "stream",
     "text": [
      "Attempt 3:  1\n"
     ]
    },
    {
     "name": "stdout",
     "output_type": "stream",
     "text": [
      "Wrong guess. Try again.\n",
      "Sorry, you've used all attempts. The number was 4.\n"
     ]
    }
   ],
   "source": [
    "print(\"Guess the secret number between 1 and 10. You have 3 attempts.\")\n",
    "\n",
    "for i in range(attempts):\n",
    "    try:\n",
    "        guess = int(input(f\"Attempt {i + 1}: \"))\n",
    "        \n",
    "        if guess == secret_number:\n",
    "            print(\"Congratulations! You guessed it right!\")\n",
    "            \n",
    "            break\n",
    "        else:\n",
    "            print(\"Wrong guess. Try again.\")\n",
    "            \n",
    "    except ValueError:\n",
    "        print(\"Please enter a valid number.\")\n",
    "        \n",
    "else:\n",
    "    print(f\"Sorry, you've used all attempts. The number was {secret_number}.\")"
   ]
  },
  {
   "cell_type": "code",
   "execution_count": null,
   "id": "4c638555-5a84-4a6d-99b6-27a32cd4ba44",
   "metadata": {},
   "outputs": [],
   "source": []
  },
  {
   "cell_type": "markdown",
   "id": "f9bf7dff-8a00-4d02-83eb-e97b3630965e",
   "metadata": {},
   "source": [
    "## 3. Multiplication Table Generator"
   ]
  },
  {
   "cell_type": "code",
   "execution_count": 11,
   "id": "c72c8e5e-ed11-41bd-8251-e560c7815f23",
   "metadata": {},
   "outputs": [],
   "source": [
    "# Function to generate multiplication table"
   ]
  },
  {
   "cell_type": "code",
   "execution_count": 12,
   "id": "7bbf0006-5a2f-4885-8d4c-59ff59482beb",
   "metadata": {},
   "outputs": [],
   "source": [
    "def generate_table(number):\n",
    "    print(f\"\\nMultiplication Table for {number}\")\n",
    "    \n",
    "    for i in range(1, 13):\n",
    "        print(f\"{number} x {i} = {number * i}\")"
   ]
  },
  {
   "cell_type": "code",
   "execution_count": 13,
   "id": "92068d37-b1df-4784-9200-82af2bb039da",
   "metadata": {},
   "outputs": [],
   "source": [
    "# Ask user for the number"
   ]
  },
  {
   "cell_type": "code",
   "execution_count": 22,
   "id": "8ac2bd3f-5f5b-4f11-930a-d7f98088fa64",
   "metadata": {},
   "outputs": [
    {
     "name": "stdin",
     "output_type": "stream",
     "text": [
      "Enter a number to generate its multiplication table:  11\n"
     ]
    },
    {
     "name": "stdout",
     "output_type": "stream",
     "text": [
      "\n",
      "Multiplication Table for 11\n",
      "11 x 1 = 11\n",
      "11 x 2 = 22\n",
      "11 x 3 = 33\n",
      "11 x 4 = 44\n",
      "11 x 5 = 55\n",
      "11 x 6 = 66\n",
      "11 x 7 = 77\n",
      "11 x 8 = 88\n",
      "11 x 9 = 99\n",
      "11 x 10 = 110\n",
      "11 x 11 = 121\n",
      "11 x 12 = 132\n"
     ]
    }
   ],
   "source": [
    "try:\n",
    "    num = int(input(\"Enter a number to generate its multiplication table: \"))\n",
    "    generate_table(num)\n",
    "\n",
    "except ValueError:\n",
    "    print(\"Invalid input. Please enter a valid number.\")"
   ]
  },
  {
   "cell_type": "code",
   "execution_count": null,
   "id": "e96d6917-67fe-4917-8543-46f5d2e66ab8",
   "metadata": {},
   "outputs": [],
   "source": []
  }
 ],
 "metadata": {
  "kernelspec": {
   "display_name": "anaconda-2024.02-py310",
   "language": "python",
   "name": "conda-env-anaconda-2024.02-py310-py"
  },
  "language_info": {
   "codemirror_mode": {
    "name": "ipython",
    "version": 3
   },
   "file_extension": ".py",
   "mimetype": "text/x-python",
   "name": "python",
   "nbconvert_exporter": "python",
   "pygments_lexer": "ipython3",
   "version": "3.10.14"
  }
 },
 "nbformat": 4,
 "nbformat_minor": 5
}
