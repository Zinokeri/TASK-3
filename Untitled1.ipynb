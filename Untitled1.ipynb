{
 "cells": [
  {
   "cell_type": "code",
   "execution_count": 8,
   "id": "3e69aabb-4b60-46a9-99bb-5a60eba52b2b",
   "metadata": {},
   "outputs": [
    {
     "name": "stdout",
     "output_type": "stream",
     "text": [
      "     Name  Age   City\n",
      "0   Alice   25  Lagos\n",
      "1  Nathan   30   Ogun\n",
      "2    Alex   35  Delta\n"
     ]
    }
   ],
   "source": [
    "import pandas as pd\n",
    "# Creating Data Frames\n",
    "data = {\n",
    "     'Name': [ 'Alice', 'Nathan', 'Alex'],\n",
    "      'Age': [25, 30 ,35],\n",
    "     'City': ['Lagos', 'Ogun', 'Delta']\n",
    "       }\n",
    "df = pd.DataFrame(data)\n",
    "print(df) "
   ]
  },
  {
   "cell_type": "code",
   "execution_count": null,
   "id": "c8908ac2-b16b-40bb-ae07-ae7ccc110364",
   "metadata": {},
   "outputs": [],
   "source": []
  },
  {
   "cell_type": "code",
   "execution_count": 11,
   "id": "13261417-dfc5-4f2b-8397-d8877e5a9c6f",
   "metadata": {},
   "outputs": [
    {
     "name": "stdout",
     "output_type": "stream",
     "text": [
      "   OrderID CustomerName ProductType  Fabric  Quantity  Price   OrderDate\n",
      "0     1001        Sarah         Bag  Ankara         2     30  2025-04-01\n",
      "1     1002        Amaka       Dress    Lace         1     50  2025-04-03\n",
      "2     1003      Chidera         Bag   Denim         3     45  2025-04-04\n"
     ]
    }
   ],
   "source": [
    "import pandas as pd\n",
    "data = {\n",
    "    'OrderID':[1001, 1002, 1003],\n",
    "    \n",
    "    'CustomerName': ['Sarah', 'Amaka', 'Chidera'],\n",
    "    \n",
    "    'ProductType': ['Bag', 'Dress', 'Bag'],\n",
    "    \n",
    "    'Fabric': ['Ankara', 'Lace', 'Denim'],\n",
    "    \n",
    "    'Quantity':[2, 1, 3],\n",
    "    \n",
    "    'Price': [30, 50, 45],\n",
    "    \n",
    "    'OrderDate': ['2025-04-01', '2025-04-03', '2025-04-04']\n",
    "       }\n",
    "df = pd.DataFrame(data)\n",
    "print(df)\n",
    "    "
   ]
  },
  {
   "cell_type": "code",
   "execution_count": null,
   "id": "cdcc7c0d-2b31-480e-83ff-1871abd3b253",
   "metadata": {},
   "outputs": [],
   "source": []
  },
  {
   "cell_type": "code",
   "execution_count": 1,
   "id": "f0ed06b0-32c8-4a4c-bb87-e54746afd762",
   "metadata": {
    "execution": {
     "iopub.execute_input": "2025-04-25T10:09:25.641057Z",
     "iopub.status.busy": "2025-04-25T10:09:25.640756Z",
     "iopub.status.idle": "2025-04-25T10:09:27.002924Z",
     "shell.execute_reply": "2025-04-25T10:09:27.002361Z",
     "shell.execute_reply.started": "2025-04-25T10:09:25.641033Z"
    }
   },
   "outputs": [
    {
     "name": "stdout",
     "output_type": "stream",
     "text": [
      "   OrderID CustomerName ProductType  Fabric  Quantity  Price   OrderDate\n",
      "0     1001        Sarah         Bag  Ankara         2     30  2025-04-01\n",
      "1     1002        Amaka       Dress    Lace         1     50  2025-04-03\n",
      "2     1003      Chidera         Bag   Denim         3     45  2025-04-04\n",
      "3     1004        Ngozi         Top  Cotton         2     25  2025-04-05\n",
      "4     1005          Ada       Dress  Ankara         1     60  2025-04-06\n"
     ]
    }
   ],
   "source": [
    "import pandas as pd\n",
    "\n",
    "df = pd.read_csv(\"fashion_orders.csv\")\n",
    "print(df.head())"
   ]
  },
  {
   "cell_type": "code",
   "execution_count": 2,
   "id": "148ec263-1ea3-4b56-b7f5-78aa0359075d",
   "metadata": {
    "execution": {
     "iopub.execute_input": "2025-04-25T10:14:28.117610Z",
     "iopub.status.busy": "2025-04-25T10:14:28.116917Z",
     "iopub.status.idle": "2025-04-25T10:14:28.138961Z",
     "shell.execute_reply": "2025-04-25T10:14:28.138252Z",
     "shell.execute_reply.started": "2025-04-25T10:14:28.117572Z"
    }
   },
   "outputs": [
    {
     "name": "stdout",
     "output_type": "stream",
     "text": [
      "<class 'pandas.core.frame.DataFrame'>\n",
      "RangeIndex: 5 entries, 0 to 4\n",
      "Data columns (total 7 columns):\n",
      " #   Column        Non-Null Count  Dtype \n",
      "---  ------        --------------  ----- \n",
      " 0   OrderID       5 non-null      int64 \n",
      " 1   CustomerName  5 non-null      object\n",
      " 2   ProductType   5 non-null      object\n",
      " 3   Fabric        5 non-null      object\n",
      " 4   Quantity      5 non-null      int64 \n",
      " 5   Price         5 non-null      int64 \n",
      " 6   OrderDate     5 non-null      object\n",
      "dtypes: int64(3), object(4)\n",
      "memory usage: 412.0+ bytes\n",
      "None\n",
      "           OrderID  Quantity     Price\n",
      "count     5.000000   5.00000   5.00000\n",
      "mean   1003.000000   1.80000  42.00000\n",
      "std       1.581139   0.83666  14.40486\n",
      "min    1001.000000   1.00000  25.00000\n",
      "25%    1002.000000   1.00000  30.00000\n",
      "50%    1003.000000   2.00000  45.00000\n",
      "75%    1004.000000   2.00000  50.00000\n",
      "max    1005.000000   3.00000  60.00000\n"
     ]
    }
   ],
   "source": [
    "print(df.info())        # Overview of data\n",
    "print(df.describe())    # Stats for numerical columns"
   ]
  },
  {
   "cell_type": "code",
   "execution_count": 3,
   "id": "9abe663f-ae62-4734-a9be-569a28f5758c",
   "metadata": {
    "execution": {
     "iopub.execute_input": "2025-04-25T10:15:26.157791Z",
     "iopub.status.busy": "2025-04-25T10:15:26.157487Z",
     "iopub.status.idle": "2025-04-25T10:15:26.163954Z",
     "shell.execute_reply": "2025-04-25T10:15:26.163278Z",
     "shell.execute_reply.started": "2025-04-25T10:15:26.157770Z"
    }
   },
   "outputs": [
    {
     "name": "stdout",
     "output_type": "stream",
     "text": [
      "  CustomerName  Total\n",
      "0        Sarah     60\n",
      "1        Amaka     50\n",
      "2      Chidera    135\n",
      "3        Ngozi     50\n",
      "4          Ada     60\n"
     ]
    }
   ],
   "source": [
    "df['Total'] = df['Quantity'] * df['Price']\n",
    "print(df[['CustomerName', 'Total']])"
   ]
  },
  {
   "cell_type": "code",
   "execution_count": 4,
   "id": "3ccbaea9-15e9-4845-adac-bcb7f90bcdb4",
   "metadata": {
    "execution": {
     "iopub.execute_input": "2025-04-25T10:15:50.310731Z",
     "iopub.status.busy": "2025-04-25T10:15:50.310416Z",
     "iopub.status.idle": "2025-04-25T10:15:50.315726Z",
     "shell.execute_reply": "2025-04-25T10:15:50.315082Z",
     "shell.execute_reply.started": "2025-04-25T10:15:50.310710Z"
    }
   },
   "outputs": [
    {
     "name": "stdout",
     "output_type": "stream",
     "text": [
      "ProductType\n",
      "Bag      195\n",
      "Dress    110\n",
      "Top       50\n",
      "Name: Total, dtype: int64\n"
     ]
    }
   ],
   "source": [
    "print(df.groupby('ProductType')['Total'].sum())"
   ]
  },
  {
   "cell_type": "code",
   "execution_count": 5,
   "id": "2893f22c-e099-40cd-8618-2fb4af80bd49",
   "metadata": {
    "execution": {
     "iopub.execute_input": "2025-04-25T10:16:11.506871Z",
     "iopub.status.busy": "2025-04-25T10:16:11.506470Z",
     "iopub.status.idle": "2025-04-25T10:16:11.512065Z",
     "shell.execute_reply": "2025-04-25T10:16:11.511413Z",
     "shell.execute_reply.started": "2025-04-25T10:16:11.506843Z"
    }
   },
   "outputs": [
    {
     "name": "stdout",
     "output_type": "stream",
     "text": [
      "Fabric\n",
      "Ankara    2\n",
      "Lace      1\n",
      "Denim     1\n",
      "Cotton    1\n",
      "Name: count, dtype: int64\n"
     ]
    }
   ],
   "source": [
    "print(df['Fabric'].value_counts())"
   ]
  },
  {
   "cell_type": "code",
   "execution_count": 6,
   "id": "4588edc1-cab0-4d9e-9170-84caaed49850",
   "metadata": {
    "execution": {
     "iopub.execute_input": "2025-04-25T10:16:30.754834Z",
     "iopub.status.busy": "2025-04-25T10:16:30.754514Z",
     "iopub.status.idle": "2025-04-25T10:16:30.761646Z",
     "shell.execute_reply": "2025-04-25T10:16:30.760931Z",
     "shell.execute_reply.started": "2025-04-25T10:16:30.754811Z"
    }
   },
   "outputs": [
    {
     "name": "stdout",
     "output_type": "stream",
     "text": [
      "   OrderID CustomerName ProductType  Fabric  Quantity  Price   OrderDate  \\\n",
      "0     1001        Sarah         Bag  Ankara         2     30  2025-04-01   \n",
      "2     1003      Chidera         Bag   Denim         3     45  2025-04-04   \n",
      "\n",
      "   Total  \n",
      "0     60  \n",
      "2    135  \n"
     ]
    }
   ],
   "source": [
    "bags_df = df[df['ProductType'] == 'Bag']\n",
    "print(bags_df)"
   ]
  },
  {
   "cell_type": "code",
   "execution_count": null,
   "id": "ad8f4de6-966b-475d-8b5e-277317b4b212",
   "metadata": {
    "execution": {
     "iopub.execute_input": "2025-04-25T10:17:00.034261Z",
     "iopub.status.busy": "2025-04-25T10:17:00.033643Z"
    }
   },
   "outputs": [
    {
     "name": "stderr",
     "output_type": "stream",
     "text": [
      "Matplotlib is building the font cache; this may take a moment.\n"
     ]
    }
   ],
   "source": [
    "import matplotlib.pyplot as plt\n",
    "\n",
    "df.groupby('Fabric')['Total'].sum().plot(kind='bar')\n",
    "plt.title(\"Sales by Fabric Type\")\n",
    "plt.ylabel(\"Total Sales (₦)\")\n",
    "plt.show()"
   ]
  },
  {
   "cell_type": "code",
   "execution_count": null,
   "id": "2e6fdd38-da0d-4182-89d5-80ea9836300c",
   "metadata": {},
   "outputs": [],
   "source": []
  }
 ],
 "metadata": {
  "kernelspec": {
   "display_name": "anaconda-panel-2023.05-py310",
   "language": "python",
   "name": "conda-env-anaconda-panel-2023.05-py310-py"
  },
  "language_info": {
   "codemirror_mode": {
    "name": "ipython",
    "version": 3
   },
   "file_extension": ".py",
   "mimetype": "text/x-python",
   "name": "python",
   "nbconvert_exporter": "python",
   "pygments_lexer": "ipython3",
   "version": "3.11.5"
  }
 },
 "nbformat": 4,
 "nbformat_minor": 5
}
