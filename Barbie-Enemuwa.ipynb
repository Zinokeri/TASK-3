{
 "cells": [
  {
   "cell_type": "markdown",
   "id": "6bf5ce67-75ce-4a59-8b6f-4345328a49ac",
   "metadata": {
    "execution": {
     "iopub.execute_input": "2025-05-10T14:29:25.966632Z",
     "iopub.status.busy": "2025-05-10T14:29:25.966316Z",
     "iopub.status.idle": "2025-05-10T14:29:25.969463Z",
     "shell.execute_reply": "2025-05-10T14:29:25.968826Z",
     "shell.execute_reply.started": "2025-05-10T14:29:25.966611Z"
    }
   },
   "source": [
    "## TASK 3"
   ]
  },
  {
   "cell_type": "markdown",
   "id": "98a7fac4-5065-46f5-97d9-f111b76bf365",
   "metadata": {
    "execution": {
     "iopub.execute_input": "2025-05-10T14:31:51.895818Z",
     "iopub.status.busy": "2025-05-10T14:31:51.895501Z",
     "iopub.status.idle": "2025-05-10T14:31:51.898747Z",
     "shell.execute_reply": "2025-05-10T14:31:51.898112Z",
     "shell.execute_reply.started": "2025-05-10T14:31:51.895798Z"
    }
   },
   "source": [
    "## Pizza Place Sales"
   ]
  },
  {
   "cell_type": "code",
   "execution_count": 104,
   "id": "6bbb1250-0f8e-4099-ad3d-0779dc20b02f",
   "metadata": {},
   "outputs": [],
   "source": [
    "import pandas as pd\n",
    "import numpy as np\n",
    "import matplotlib.pyplot as plt\n",
    "import seaborn as sns\n",
    "import warnings\n",
    "\n",
    "# Setup\n",
    "warnings.filterwarnings('ignore')\n",
    "pd.set_option('display.max_colwidth', None)\n",
    "%matplotlib inline"
   ]
  },
  {
   "cell_type": "markdown",
   "id": "482cd5cf-50d6-4227-9c67-fbbbbf7cfe6e",
   "metadata": {},
   "source": [
    "## Load CSV files"
   ]
  },
  {
   "cell_type": "code",
   "execution_count": 105,
   "id": "f9b6a761-ef6d-44fe-868d-eaee84b76713",
   "metadata": {},
   "outputs": [
    {
     "data": {
      "text/html": [
       "<div>\n",
       "<style scoped>\n",
       "    .dataframe tbody tr th:only-of-type {\n",
       "        vertical-align: middle;\n",
       "    }\n",
       "\n",
       "    .dataframe tbody tr th {\n",
       "        vertical-align: top;\n",
       "    }\n",
       "\n",
       "    .dataframe thead th {\n",
       "        text-align: right;\n",
       "    }\n",
       "</style>\n",
       "<table border=\"1\" class=\"dataframe\">\n",
       "  <thead>\n",
       "    <tr style=\"text-align: right;\">\n",
       "      <th></th>\n",
       "      <th>order_details_id</th>\n",
       "      <th>order_id</th>\n",
       "      <th>pizza_id</th>\n",
       "      <th>quantity</th>\n",
       "    </tr>\n",
       "  </thead>\n",
       "  <tbody>\n",
       "    <tr>\n",
       "      <th>0</th>\n",
       "      <td>1</td>\n",
       "      <td>1</td>\n",
       "      <td>hawaiian_m</td>\n",
       "      <td>1</td>\n",
       "    </tr>\n",
       "    <tr>\n",
       "      <th>1</th>\n",
       "      <td>2</td>\n",
       "      <td>2</td>\n",
       "      <td>classic_dlx_m</td>\n",
       "      <td>1</td>\n",
       "    </tr>\n",
       "    <tr>\n",
       "      <th>2</th>\n",
       "      <td>3</td>\n",
       "      <td>2</td>\n",
       "      <td>five_cheese_l</td>\n",
       "      <td>1</td>\n",
       "    </tr>\n",
       "    <tr>\n",
       "      <th>3</th>\n",
       "      <td>4</td>\n",
       "      <td>2</td>\n",
       "      <td>ital_supr_l</td>\n",
       "      <td>1</td>\n",
       "    </tr>\n",
       "    <tr>\n",
       "      <th>4</th>\n",
       "      <td>5</td>\n",
       "      <td>2</td>\n",
       "      <td>mexicana_m</td>\n",
       "      <td>1</td>\n",
       "    </tr>\n",
       "  </tbody>\n",
       "</table>\n",
       "</div>"
      ],
      "text/plain": [
       "   order_details_id  order_id       pizza_id  quantity\n",
       "0                 1         1     hawaiian_m         1\n",
       "1                 2         2  classic_dlx_m         1\n",
       "2                 3         2  five_cheese_l         1\n",
       "3                 4         2    ital_supr_l         1\n",
       "4                 5         2     mexicana_m         1"
      ]
     },
     "execution_count": 105,
     "metadata": {},
     "output_type": "execute_result"
    }
   ],
   "source": [
    "# Load Order Details\n",
    "\n",
    "order_details = pd.read_csv('order_details.csv')\n",
    "order_details.head()"
   ]
  },
  {
   "cell_type": "code",
   "execution_count": 106,
   "id": "3d178928-7b03-43fe-8c9c-3a0891763924",
   "metadata": {},
   "outputs": [
    {
     "data": {
      "text/plain": [
       "(48620, 4)"
      ]
     },
     "execution_count": 106,
     "metadata": {},
     "output_type": "execute_result"
    }
   ],
   "source": [
    "order_details.shape"
   ]
  },
  {
   "cell_type": "code",
   "execution_count": 107,
   "id": "1239b724-1552-46d6-bb4f-4104b04ed881",
   "metadata": {},
   "outputs": [
    {
     "data": {
      "text/html": [
       "<div>\n",
       "<style scoped>\n",
       "    .dataframe tbody tr th:only-of-type {\n",
       "        vertical-align: middle;\n",
       "    }\n",
       "\n",
       "    .dataframe tbody tr th {\n",
       "        vertical-align: top;\n",
       "    }\n",
       "\n",
       "    .dataframe thead th {\n",
       "        text-align: right;\n",
       "    }\n",
       "</style>\n",
       "<table border=\"1\" class=\"dataframe\">\n",
       "  <thead>\n",
       "    <tr style=\"text-align: right;\">\n",
       "      <th></th>\n",
       "      <th>order_id</th>\n",
       "      <th>date</th>\n",
       "      <th>time</th>\n",
       "    </tr>\n",
       "  </thead>\n",
       "  <tbody>\n",
       "    <tr>\n",
       "      <th>0</th>\n",
       "      <td>1</td>\n",
       "      <td>2015-01-01</td>\n",
       "      <td>11:38:36</td>\n",
       "    </tr>\n",
       "    <tr>\n",
       "      <th>1</th>\n",
       "      <td>2</td>\n",
       "      <td>2015-01-01</td>\n",
       "      <td>11:57:40</td>\n",
       "    </tr>\n",
       "    <tr>\n",
       "      <th>2</th>\n",
       "      <td>3</td>\n",
       "      <td>2015-01-01</td>\n",
       "      <td>12:12:28</td>\n",
       "    </tr>\n",
       "    <tr>\n",
       "      <th>3</th>\n",
       "      <td>4</td>\n",
       "      <td>2015-01-01</td>\n",
       "      <td>12:16:31</td>\n",
       "    </tr>\n",
       "    <tr>\n",
       "      <th>4</th>\n",
       "      <td>5</td>\n",
       "      <td>2015-01-01</td>\n",
       "      <td>12:21:30</td>\n",
       "    </tr>\n",
       "  </tbody>\n",
       "</table>\n",
       "</div>"
      ],
      "text/plain": [
       "   order_id        date      time\n",
       "0         1  2015-01-01  11:38:36\n",
       "1         2  2015-01-01  11:57:40\n",
       "2         3  2015-01-01  12:12:28\n",
       "3         4  2015-01-01  12:16:31\n",
       "4         5  2015-01-01  12:21:30"
      ]
     },
     "execution_count": 107,
     "metadata": {},
     "output_type": "execute_result"
    }
   ],
   "source": [
    "# Load Order \n",
    "\n",
    "order = pd.read_csv('orders.csv')\n",
    "order.head()"
   ]
  },
  {
   "cell_type": "code",
   "execution_count": 108,
   "id": "a056beea-4661-4bea-b0d6-a4820ca58b66",
   "metadata": {},
   "outputs": [
    {
     "data": {
      "text/plain": [
       "(21350, 3)"
      ]
     },
     "execution_count": 108,
     "metadata": {},
     "output_type": "execute_result"
    }
   ],
   "source": [
    "order.shape"
   ]
  },
  {
   "cell_type": "code",
   "execution_count": 109,
   "id": "4e38705f-5189-4c9d-9916-d7e6ef343eb0",
   "metadata": {},
   "outputs": [
    {
     "data": {
      "text/html": [
       "<div>\n",
       "<style scoped>\n",
       "    .dataframe tbody tr th:only-of-type {\n",
       "        vertical-align: middle;\n",
       "    }\n",
       "\n",
       "    .dataframe tbody tr th {\n",
       "        vertical-align: top;\n",
       "    }\n",
       "\n",
       "    .dataframe thead th {\n",
       "        text-align: right;\n",
       "    }\n",
       "</style>\n",
       "<table border=\"1\" class=\"dataframe\">\n",
       "  <thead>\n",
       "    <tr style=\"text-align: right;\">\n",
       "      <th></th>\n",
       "      <th>pizza_type_id</th>\n",
       "      <th>name</th>\n",
       "      <th>category</th>\n",
       "      <th>ingredients</th>\n",
       "    </tr>\n",
       "  </thead>\n",
       "  <tbody>\n",
       "    <tr>\n",
       "      <th>0</th>\n",
       "      <td>bbq_ckn</td>\n",
       "      <td>The Barbecue Chicken Pizza</td>\n",
       "      <td>Chicken</td>\n",
       "      <td>Barbecued Chicken, Red Peppers, Green Peppers, Tomatoes, Red Onions, Barbecue Sauce</td>\n",
       "    </tr>\n",
       "    <tr>\n",
       "      <th>1</th>\n",
       "      <td>cali_ckn</td>\n",
       "      <td>The California Chicken Pizza</td>\n",
       "      <td>Chicken</td>\n",
       "      <td>Chicken, Artichoke, Spinach, Garlic, Jalapeno Peppers, Fontina Cheese, Gouda Cheese</td>\n",
       "    </tr>\n",
       "    <tr>\n",
       "      <th>2</th>\n",
       "      <td>ckn_alfredo</td>\n",
       "      <td>The Chicken Alfredo Pizza</td>\n",
       "      <td>Chicken</td>\n",
       "      <td>Chicken, Red Onions, Red Peppers, Mushrooms, Asiago Cheese, Alfredo Sauce</td>\n",
       "    </tr>\n",
       "    <tr>\n",
       "      <th>3</th>\n",
       "      <td>ckn_pesto</td>\n",
       "      <td>The Chicken Pesto Pizza</td>\n",
       "      <td>Chicken</td>\n",
       "      <td>Chicken, Tomatoes, Red Peppers, Spinach, Garlic, Pesto Sauce</td>\n",
       "    </tr>\n",
       "    <tr>\n",
       "      <th>4</th>\n",
       "      <td>southw_ckn</td>\n",
       "      <td>The Southwest Chicken Pizza</td>\n",
       "      <td>Chicken</td>\n",
       "      <td>Chicken, Tomatoes, Red Peppers, Red Onions, Jalapeno Peppers, Corn, Cilantro, Chipotle Sauce</td>\n",
       "    </tr>\n",
       "  </tbody>\n",
       "</table>\n",
       "</div>"
      ],
      "text/plain": [
       "  pizza_type_id                          name category  \\\n",
       "0       bbq_ckn    The Barbecue Chicken Pizza  Chicken   \n",
       "1      cali_ckn  The California Chicken Pizza  Chicken   \n",
       "2   ckn_alfredo     The Chicken Alfredo Pizza  Chicken   \n",
       "3     ckn_pesto       The Chicken Pesto Pizza  Chicken   \n",
       "4    southw_ckn   The Southwest Chicken Pizza  Chicken   \n",
       "\n",
       "                                                                                    ingredients  \n",
       "0           Barbecued Chicken, Red Peppers, Green Peppers, Tomatoes, Red Onions, Barbecue Sauce  \n",
       "1           Chicken, Artichoke, Spinach, Garlic, Jalapeno Peppers, Fontina Cheese, Gouda Cheese  \n",
       "2                     Chicken, Red Onions, Red Peppers, Mushrooms, Asiago Cheese, Alfredo Sauce  \n",
       "3                                  Chicken, Tomatoes, Red Peppers, Spinach, Garlic, Pesto Sauce  \n",
       "4  Chicken, Tomatoes, Red Peppers, Red Onions, Jalapeno Peppers, Corn, Cilantro, Chipotle Sauce  "
      ]
     },
     "execution_count": 109,
     "metadata": {},
     "output_type": "execute_result"
    }
   ],
   "source": [
    "# Load Pizza Types\n",
    "\n",
    "pizza_type = pd.read_csv('pizza_types.csv', encoding='utf-8-sig')\n",
    "pizza_type.head()"
   ]
  },
  {
   "cell_type": "code",
   "execution_count": 110,
   "id": "66cf8350-2e81-45f2-bf4a-ee0f078c3900",
   "metadata": {},
   "outputs": [
    {
     "data": {
      "text/plain": [
       "(32, 4)"
      ]
     },
     "execution_count": 110,
     "metadata": {},
     "output_type": "execute_result"
    }
   ],
   "source": [
    "pizza_type.shape"
   ]
  },
  {
   "cell_type": "code",
   "execution_count": 111,
   "id": "7fc54c3e-4ec6-4a51-8713-028e064b2106",
   "metadata": {},
   "outputs": [
    {
     "data": {
      "text/html": [
       "<div>\n",
       "<style scoped>\n",
       "    .dataframe tbody tr th:only-of-type {\n",
       "        vertical-align: middle;\n",
       "    }\n",
       "\n",
       "    .dataframe tbody tr th {\n",
       "        vertical-align: top;\n",
       "    }\n",
       "\n",
       "    .dataframe thead th {\n",
       "        text-align: right;\n",
       "    }\n",
       "</style>\n",
       "<table border=\"1\" class=\"dataframe\">\n",
       "  <thead>\n",
       "    <tr style=\"text-align: right;\">\n",
       "      <th></th>\n",
       "      <th>pizza_id</th>\n",
       "      <th>pizza_type_id</th>\n",
       "      <th>size</th>\n",
       "      <th>price</th>\n",
       "    </tr>\n",
       "  </thead>\n",
       "  <tbody>\n",
       "    <tr>\n",
       "      <th>0</th>\n",
       "      <td>bbq_ckn_s</td>\n",
       "      <td>bbq_ckn</td>\n",
       "      <td>S</td>\n",
       "      <td>12.75</td>\n",
       "    </tr>\n",
       "    <tr>\n",
       "      <th>1</th>\n",
       "      <td>bbq_ckn_m</td>\n",
       "      <td>bbq_ckn</td>\n",
       "      <td>M</td>\n",
       "      <td>16.75</td>\n",
       "    </tr>\n",
       "    <tr>\n",
       "      <th>2</th>\n",
       "      <td>bbq_ckn_l</td>\n",
       "      <td>bbq_ckn</td>\n",
       "      <td>L</td>\n",
       "      <td>20.75</td>\n",
       "    </tr>\n",
       "    <tr>\n",
       "      <th>3</th>\n",
       "      <td>cali_ckn_s</td>\n",
       "      <td>cali_ckn</td>\n",
       "      <td>S</td>\n",
       "      <td>12.75</td>\n",
       "    </tr>\n",
       "    <tr>\n",
       "      <th>4</th>\n",
       "      <td>cali_ckn_m</td>\n",
       "      <td>cali_ckn</td>\n",
       "      <td>M</td>\n",
       "      <td>16.75</td>\n",
       "    </tr>\n",
       "  </tbody>\n",
       "</table>\n",
       "</div>"
      ],
      "text/plain": [
       "     pizza_id pizza_type_id size  price\n",
       "0   bbq_ckn_s       bbq_ckn    S  12.75\n",
       "1   bbq_ckn_m       bbq_ckn    M  16.75\n",
       "2   bbq_ckn_l       bbq_ckn    L  20.75\n",
       "3  cali_ckn_s      cali_ckn    S  12.75\n",
       "4  cali_ckn_m      cali_ckn    M  16.75"
      ]
     },
     "execution_count": 111,
     "metadata": {},
     "output_type": "execute_result"
    }
   ],
   "source": [
    "# Load Pizzas\n",
    "\n",
    "pizza = pd.read_csv('pizzas.csv')\n",
    "pizza.head()"
   ]
  },
  {
   "cell_type": "code",
   "execution_count": 112,
   "id": "415288ad-eafd-422a-88d5-e74e761f57cf",
   "metadata": {},
   "outputs": [
    {
     "data": {
      "text/plain": [
       "(96, 4)"
      ]
     },
     "execution_count": 112,
     "metadata": {},
     "output_type": "execute_result"
    }
   ],
   "source": [
    "pizza.shape"
   ]
  },
  {
   "cell_type": "code",
   "execution_count": 113,
   "id": "8257ba70-1602-41b2-90b8-23188b9c5d8f",
   "metadata": {},
   "outputs": [
    {
     "data": {
      "text/html": [
       "<div>\n",
       "<style scoped>\n",
       "    .dataframe tbody tr th:only-of-type {\n",
       "        vertical-align: middle;\n",
       "    }\n",
       "\n",
       "    .dataframe tbody tr th {\n",
       "        vertical-align: top;\n",
       "    }\n",
       "\n",
       "    .dataframe thead th {\n",
       "        text-align: right;\n",
       "    }\n",
       "</style>\n",
       "<table border=\"1\" class=\"dataframe\">\n",
       "  <thead>\n",
       "    <tr style=\"text-align: right;\">\n",
       "      <th></th>\n",
       "      <th>Table</th>\n",
       "      <th>Field</th>\n",
       "      <th>Description</th>\n",
       "    </tr>\n",
       "  </thead>\n",
       "  <tbody>\n",
       "    <tr>\n",
       "      <th>0</th>\n",
       "      <td>orders</td>\n",
       "      <td>order_id</td>\n",
       "      <td>Unique identifier for each order placed by a table</td>\n",
       "    </tr>\n",
       "    <tr>\n",
       "      <th>1</th>\n",
       "      <td>orders</td>\n",
       "      <td>date</td>\n",
       "      <td>Date the order was placed (entered into the system prior to cooking &amp; serving)</td>\n",
       "    </tr>\n",
       "    <tr>\n",
       "      <th>2</th>\n",
       "      <td>orders</td>\n",
       "      <td>time</td>\n",
       "      <td>Time the order was placed (entered into the system prior to cooking &amp; serving)</td>\n",
       "    </tr>\n",
       "    <tr>\n",
       "      <th>3</th>\n",
       "      <td>order_details</td>\n",
       "      <td>order_details_id</td>\n",
       "      <td>Unique identifier for each pizza placed within each order (pizzas of the same type and size are kept in the same row, and the quantity increases)</td>\n",
       "    </tr>\n",
       "    <tr>\n",
       "      <th>4</th>\n",
       "      <td>order_details</td>\n",
       "      <td>order_id</td>\n",
       "      <td>Foreign key that ties the details in each order to the order itself</td>\n",
       "    </tr>\n",
       "    <tr>\n",
       "      <th>5</th>\n",
       "      <td>order_details</td>\n",
       "      <td>pizza_id</td>\n",
       "      <td>Foreign key that ties the pizza ordered to its details, like size and price</td>\n",
       "    </tr>\n",
       "    <tr>\n",
       "      <th>6</th>\n",
       "      <td>order_details</td>\n",
       "      <td>quantity</td>\n",
       "      <td>Quantity ordered for each pizza of the same type and size</td>\n",
       "    </tr>\n",
       "    <tr>\n",
       "      <th>7</th>\n",
       "      <td>pizzas</td>\n",
       "      <td>pizza_id</td>\n",
       "      <td>Unique identifier for each pizza (constituted by its type and size)</td>\n",
       "    </tr>\n",
       "    <tr>\n",
       "      <th>8</th>\n",
       "      <td>pizzas</td>\n",
       "      <td>pizza_type_id</td>\n",
       "      <td>Foreign key that ties each pizza to its broader pizza type</td>\n",
       "    </tr>\n",
       "    <tr>\n",
       "      <th>9</th>\n",
       "      <td>pizzas</td>\n",
       "      <td>size</td>\n",
       "      <td>Size of the pizza (Small, Medium, Large, X Large, or XX Large)</td>\n",
       "    </tr>\n",
       "    <tr>\n",
       "      <th>10</th>\n",
       "      <td>pizzas</td>\n",
       "      <td>price</td>\n",
       "      <td>Price of the pizza in USD</td>\n",
       "    </tr>\n",
       "    <tr>\n",
       "      <th>11</th>\n",
       "      <td>pizza_types</td>\n",
       "      <td>pizza_type_id</td>\n",
       "      <td>Unique identifier for each pizza type</td>\n",
       "    </tr>\n",
       "    <tr>\n",
       "      <th>12</th>\n",
       "      <td>pizza_types</td>\n",
       "      <td>name</td>\n",
       "      <td>Name of the pizza as shown in the menu</td>\n",
       "    </tr>\n",
       "    <tr>\n",
       "      <th>13</th>\n",
       "      <td>pizza_types</td>\n",
       "      <td>category</td>\n",
       "      <td>Category that the pizza fall under in the menu (Classic, Chicken, Supreme, or Veggie)</td>\n",
       "    </tr>\n",
       "    <tr>\n",
       "      <th>14</th>\n",
       "      <td>pizza_types</td>\n",
       "      <td>ingredients</td>\n",
       "      <td>Comma-delimited ingredients used in the pizza as shown in the menu (they all include Mozzarella Cheese, even if not specified; and they all include Tomato Sauce, unless another sauce is specified)</td>\n",
       "    </tr>\n",
       "  </tbody>\n",
       "</table>\n",
       "</div>"
      ],
      "text/plain": [
       "            Table             Field  \\\n",
       "0          orders          order_id   \n",
       "1          orders              date   \n",
       "2          orders              time   \n",
       "3   order_details  order_details_id   \n",
       "4   order_details          order_id   \n",
       "5   order_details          pizza_id   \n",
       "6   order_details          quantity   \n",
       "7          pizzas          pizza_id   \n",
       "8          pizzas     pizza_type_id   \n",
       "9          pizzas              size   \n",
       "10         pizzas             price   \n",
       "11    pizza_types     pizza_type_id   \n",
       "12    pizza_types              name   \n",
       "13    pizza_types          category   \n",
       "14    pizza_types       ingredients   \n",
       "\n",
       "                                                                                                                                                                                             Description  \n",
       "0                                                                                                                                                     Unique identifier for each order placed by a table  \n",
       "1                                                                                                                         Date the order was placed (entered into the system prior to cooking & serving)  \n",
       "2                                                                                                                         Time the order was placed (entered into the system prior to cooking & serving)  \n",
       "3                                                      Unique identifier for each pizza placed within each order (pizzas of the same type and size are kept in the same row, and the quantity increases)  \n",
       "4                                                                                                                                    Foreign key that ties the details in each order to the order itself  \n",
       "5                                                                                                                            Foreign key that ties the pizza ordered to its details, like size and price  \n",
       "6                                                                                                                                              Quantity ordered for each pizza of the same type and size  \n",
       "7                                                                                                                                    Unique identifier for each pizza (constituted by its type and size)  \n",
       "8                                                                                                                                             Foreign key that ties each pizza to its broader pizza type  \n",
       "9                                                                                                                                         Size of the pizza (Small, Medium, Large, X Large, or XX Large)  \n",
       "10                                                                                                                                                                             Price of the pizza in USD  \n",
       "11                                                                                                                                                                 Unique identifier for each pizza type  \n",
       "12                                                                                                                                                                Name of the pizza as shown in the menu  \n",
       "13                                                                                                                 Category that the pizza fall under in the menu (Classic, Chicken, Supreme, or Veggie)  \n",
       "14  Comma-delimited ingredients used in the pizza as shown in the menu (they all include Mozzarella Cheese, even if not specified; and they all include Tomato Sauce, unless another sauce is specified)  "
      ]
     },
     "execution_count": 113,
     "metadata": {},
     "output_type": "execute_result"
    }
   ],
   "source": [
    "# Load Data Dictionary\n",
    "\n",
    "data_dict = pd.read_csv('/home/21641c6c-03a7-4e5c-9add-5a5e308aba8d/pizza_sales/pizza_sales/data_dictionary.csv')\n",
    "pd.set_option('display.max_colwidth', None)  # Display full description\n",
    "data_dict"
   ]
  },
  {
   "cell_type": "markdown",
   "id": "e9fff2a6-d012-4917-923e-3faed32d52e0",
   "metadata": {},
   "source": [
    "## Merge Datasets"
   ]
  },
  {
   "cell_type": "code",
   "execution_count": 114,
   "id": "d4fb7348-b807-4336-bdcf-a5e21369ad5b",
   "metadata": {},
   "outputs": [
    {
     "data": {
      "text/html": [
       "<div>\n",
       "<style scoped>\n",
       "    .dataframe tbody tr th:only-of-type {\n",
       "        vertical-align: middle;\n",
       "    }\n",
       "\n",
       "    .dataframe tbody tr th {\n",
       "        vertical-align: top;\n",
       "    }\n",
       "\n",
       "    .dataframe thead th {\n",
       "        text-align: right;\n",
       "    }\n",
       "</style>\n",
       "<table border=\"1\" class=\"dataframe\">\n",
       "  <thead>\n",
       "    <tr style=\"text-align: right;\">\n",
       "      <th></th>\n",
       "      <th>order_details_id</th>\n",
       "      <th>order_id</th>\n",
       "      <th>pizza_id</th>\n",
       "      <th>quantity</th>\n",
       "      <th>date</th>\n",
       "      <th>time</th>\n",
       "    </tr>\n",
       "  </thead>\n",
       "  <tbody>\n",
       "    <tr>\n",
       "      <th>0</th>\n",
       "      <td>1</td>\n",
       "      <td>1</td>\n",
       "      <td>hawaiian_m</td>\n",
       "      <td>1</td>\n",
       "      <td>2015-01-01</td>\n",
       "      <td>11:38:36</td>\n",
       "    </tr>\n",
       "    <tr>\n",
       "      <th>1</th>\n",
       "      <td>2</td>\n",
       "      <td>2</td>\n",
       "      <td>classic_dlx_m</td>\n",
       "      <td>1</td>\n",
       "      <td>2015-01-01</td>\n",
       "      <td>11:57:40</td>\n",
       "    </tr>\n",
       "    <tr>\n",
       "      <th>2</th>\n",
       "      <td>3</td>\n",
       "      <td>2</td>\n",
       "      <td>five_cheese_l</td>\n",
       "      <td>1</td>\n",
       "      <td>2015-01-01</td>\n",
       "      <td>11:57:40</td>\n",
       "    </tr>\n",
       "    <tr>\n",
       "      <th>3</th>\n",
       "      <td>4</td>\n",
       "      <td>2</td>\n",
       "      <td>ital_supr_l</td>\n",
       "      <td>1</td>\n",
       "      <td>2015-01-01</td>\n",
       "      <td>11:57:40</td>\n",
       "    </tr>\n",
       "    <tr>\n",
       "      <th>4</th>\n",
       "      <td>5</td>\n",
       "      <td>2</td>\n",
       "      <td>mexicana_m</td>\n",
       "      <td>1</td>\n",
       "      <td>2015-01-01</td>\n",
       "      <td>11:57:40</td>\n",
       "    </tr>\n",
       "  </tbody>\n",
       "</table>\n",
       "</div>"
      ],
      "text/plain": [
       "   order_details_id  order_id       pizza_id  quantity        date      time\n",
       "0                 1         1     hawaiian_m         1  2015-01-01  11:38:36\n",
       "1                 2         2  classic_dlx_m         1  2015-01-01  11:57:40\n",
       "2                 3         2  five_cheese_l         1  2015-01-01  11:57:40\n",
       "3                 4         2    ital_supr_l         1  2015-01-01  11:57:40\n",
       "4                 5         2     mexicana_m         1  2015-01-01  11:57:40"
      ]
     },
     "execution_count": 114,
     "metadata": {},
     "output_type": "execute_result"
    }
   ],
   "source": [
    "# Final Order Details\n",
    "\n",
    "final_order_details = pd.merge(order_details, order, on='order_id', how='left')\n",
    "final_order_details.head()"
   ]
  },
  {
   "cell_type": "code",
   "execution_count": 115,
   "id": "3cada559-430f-4e9e-8a3c-0c1a687ddcf7",
   "metadata": {},
   "outputs": [
    {
     "data": {
      "text/html": [
       "<div>\n",
       "<style scoped>\n",
       "    .dataframe tbody tr th:only-of-type {\n",
       "        vertical-align: middle;\n",
       "    }\n",
       "\n",
       "    .dataframe tbody tr th {\n",
       "        vertical-align: top;\n",
       "    }\n",
       "\n",
       "    .dataframe thead th {\n",
       "        text-align: right;\n",
       "    }\n",
       "</style>\n",
       "<table border=\"1\" class=\"dataframe\">\n",
       "  <thead>\n",
       "    <tr style=\"text-align: right;\">\n",
       "      <th></th>\n",
       "      <th>pizza_id</th>\n",
       "      <th>pizza_type_id</th>\n",
       "      <th>size</th>\n",
       "      <th>price</th>\n",
       "      <th>name</th>\n",
       "      <th>category</th>\n",
       "      <th>ingredients</th>\n",
       "    </tr>\n",
       "  </thead>\n",
       "  <tbody>\n",
       "    <tr>\n",
       "      <th>0</th>\n",
       "      <td>bbq_ckn_s</td>\n",
       "      <td>bbq_ckn</td>\n",
       "      <td>S</td>\n",
       "      <td>12.75</td>\n",
       "      <td>The Barbecue Chicken Pizza</td>\n",
       "      <td>Chicken</td>\n",
       "      <td>Barbecued Chicken, Red Peppers, Green Peppers, Tomatoes, Red Onions, Barbecue Sauce</td>\n",
       "    </tr>\n",
       "    <tr>\n",
       "      <th>1</th>\n",
       "      <td>bbq_ckn_m</td>\n",
       "      <td>bbq_ckn</td>\n",
       "      <td>M</td>\n",
       "      <td>16.75</td>\n",
       "      <td>The Barbecue Chicken Pizza</td>\n",
       "      <td>Chicken</td>\n",
       "      <td>Barbecued Chicken, Red Peppers, Green Peppers, Tomatoes, Red Onions, Barbecue Sauce</td>\n",
       "    </tr>\n",
       "    <tr>\n",
       "      <th>2</th>\n",
       "      <td>bbq_ckn_l</td>\n",
       "      <td>bbq_ckn</td>\n",
       "      <td>L</td>\n",
       "      <td>20.75</td>\n",
       "      <td>The Barbecue Chicken Pizza</td>\n",
       "      <td>Chicken</td>\n",
       "      <td>Barbecued Chicken, Red Peppers, Green Peppers, Tomatoes, Red Onions, Barbecue Sauce</td>\n",
       "    </tr>\n",
       "    <tr>\n",
       "      <th>3</th>\n",
       "      <td>cali_ckn_s</td>\n",
       "      <td>cali_ckn</td>\n",
       "      <td>S</td>\n",
       "      <td>12.75</td>\n",
       "      <td>The California Chicken Pizza</td>\n",
       "      <td>Chicken</td>\n",
       "      <td>Chicken, Artichoke, Spinach, Garlic, Jalapeno Peppers, Fontina Cheese, Gouda Cheese</td>\n",
       "    </tr>\n",
       "    <tr>\n",
       "      <th>4</th>\n",
       "      <td>cali_ckn_m</td>\n",
       "      <td>cali_ckn</td>\n",
       "      <td>M</td>\n",
       "      <td>16.75</td>\n",
       "      <td>The California Chicken Pizza</td>\n",
       "      <td>Chicken</td>\n",
       "      <td>Chicken, Artichoke, Spinach, Garlic, Jalapeno Peppers, Fontina Cheese, Gouda Cheese</td>\n",
       "    </tr>\n",
       "  </tbody>\n",
       "</table>\n",
       "</div>"
      ],
      "text/plain": [
       "     pizza_id pizza_type_id size  price                          name  \\\n",
       "0   bbq_ckn_s       bbq_ckn    S  12.75    The Barbecue Chicken Pizza   \n",
       "1   bbq_ckn_m       bbq_ckn    M  16.75    The Barbecue Chicken Pizza   \n",
       "2   bbq_ckn_l       bbq_ckn    L  20.75    The Barbecue Chicken Pizza   \n",
       "3  cali_ckn_s      cali_ckn    S  12.75  The California Chicken Pizza   \n",
       "4  cali_ckn_m      cali_ckn    M  16.75  The California Chicken Pizza   \n",
       "\n",
       "  category  \\\n",
       "0  Chicken   \n",
       "1  Chicken   \n",
       "2  Chicken   \n",
       "3  Chicken   \n",
       "4  Chicken   \n",
       "\n",
       "                                                                           ingredients  \n",
       "0  Barbecued Chicken, Red Peppers, Green Peppers, Tomatoes, Red Onions, Barbecue Sauce  \n",
       "1  Barbecued Chicken, Red Peppers, Green Peppers, Tomatoes, Red Onions, Barbecue Sauce  \n",
       "2  Barbecued Chicken, Red Peppers, Green Peppers, Tomatoes, Red Onions, Barbecue Sauce  \n",
       "3  Chicken, Artichoke, Spinach, Garlic, Jalapeno Peppers, Fontina Cheese, Gouda Cheese  \n",
       "4  Chicken, Artichoke, Spinach, Garlic, Jalapeno Peppers, Fontina Cheese, Gouda Cheese  "
      ]
     },
     "execution_count": 115,
     "metadata": {},
     "output_type": "execute_result"
    }
   ],
   "source": [
    "# Final Pizza\n",
    "\n",
    "final_pizza = pd.merge(pizza, pizza_type, on='pizza_type_id', how='left')\n",
    "final_pizza.head()"
   ]
  },
  {
   "cell_type": "code",
   "execution_count": 116,
   "id": "f85d7aca-ce4c-4486-a41e-6ee6cf3c80ec",
   "metadata": {},
   "outputs": [
    {
     "data": {
      "text/plain": [
       "pizza_id         0\n",
       "pizza_type_id    0\n",
       "size             0\n",
       "price            0\n",
       "name             0\n",
       "category         0\n",
       "ingredients      0\n",
       "dtype: int64"
      ]
     },
     "execution_count": 116,
     "metadata": {},
     "output_type": "execute_result"
    }
   ],
   "source": [
    "final_pizza.isnull().sum()"
   ]
  },
  {
   "cell_type": "code",
   "execution_count": 117,
   "id": "c0119a3c-8d5a-4eb2-af25-5e09dffb53cb",
   "metadata": {},
   "outputs": [
    {
     "data": {
      "text/html": [
       "<div>\n",
       "<style scoped>\n",
       "    .dataframe tbody tr th:only-of-type {\n",
       "        vertical-align: middle;\n",
       "    }\n",
       "\n",
       "    .dataframe tbody tr th {\n",
       "        vertical-align: top;\n",
       "    }\n",
       "\n",
       "    .dataframe thead th {\n",
       "        text-align: right;\n",
       "    }\n",
       "</style>\n",
       "<table border=\"1\" class=\"dataframe\">\n",
       "  <thead>\n",
       "    <tr style=\"text-align: right;\">\n",
       "      <th></th>\n",
       "      <th>order_details_id</th>\n",
       "      <th>order_id</th>\n",
       "      <th>pizza_id</th>\n",
       "      <th>quantity</th>\n",
       "      <th>date</th>\n",
       "      <th>time</th>\n",
       "      <th>pizza_type_id</th>\n",
       "      <th>size</th>\n",
       "      <th>price</th>\n",
       "      <th>name</th>\n",
       "      <th>category</th>\n",
       "      <th>ingredients</th>\n",
       "    </tr>\n",
       "  </thead>\n",
       "  <tbody>\n",
       "    <tr>\n",
       "      <th>0</th>\n",
       "      <td>1</td>\n",
       "      <td>1</td>\n",
       "      <td>hawaiian_m</td>\n",
       "      <td>1</td>\n",
       "      <td>2015-01-01</td>\n",
       "      <td>11:38:36</td>\n",
       "      <td>hawaiian</td>\n",
       "      <td>M</td>\n",
       "      <td>13.25</td>\n",
       "      <td>The Hawaiian Pizza</td>\n",
       "      <td>Classic</td>\n",
       "      <td>Sliced Ham, Pineapple, Mozzarella Cheese</td>\n",
       "    </tr>\n",
       "    <tr>\n",
       "      <th>1</th>\n",
       "      <td>2</td>\n",
       "      <td>2</td>\n",
       "      <td>classic_dlx_m</td>\n",
       "      <td>1</td>\n",
       "      <td>2015-01-01</td>\n",
       "      <td>11:57:40</td>\n",
       "      <td>classic_dlx</td>\n",
       "      <td>M</td>\n",
       "      <td>16.00</td>\n",
       "      <td>The Classic Deluxe Pizza</td>\n",
       "      <td>Classic</td>\n",
       "      <td>Pepperoni, Mushrooms, Red Onions, Red Peppers, Bacon</td>\n",
       "    </tr>\n",
       "    <tr>\n",
       "      <th>2</th>\n",
       "      <td>3</td>\n",
       "      <td>2</td>\n",
       "      <td>five_cheese_l</td>\n",
       "      <td>1</td>\n",
       "      <td>2015-01-01</td>\n",
       "      <td>11:57:40</td>\n",
       "      <td>five_cheese</td>\n",
       "      <td>L</td>\n",
       "      <td>18.50</td>\n",
       "      <td>The Five Cheese Pizza</td>\n",
       "      <td>Veggie</td>\n",
       "      <td>Mozzarella Cheese, Provolone Cheese, Smoked Gouda Cheese, Romano Cheese, Blue Cheese, Garlic</td>\n",
       "    </tr>\n",
       "    <tr>\n",
       "      <th>3</th>\n",
       "      <td>4</td>\n",
       "      <td>2</td>\n",
       "      <td>ital_supr_l</td>\n",
       "      <td>1</td>\n",
       "      <td>2015-01-01</td>\n",
       "      <td>11:57:40</td>\n",
       "      <td>ital_supr</td>\n",
       "      <td>L</td>\n",
       "      <td>20.75</td>\n",
       "      <td>The Italian Supreme Pizza</td>\n",
       "      <td>Supreme</td>\n",
       "      <td>Calabrese Salami, Capocollo, Tomatoes, Red Onions, Green Olives, Garlic</td>\n",
       "    </tr>\n",
       "    <tr>\n",
       "      <th>4</th>\n",
       "      <td>5</td>\n",
       "      <td>2</td>\n",
       "      <td>mexicana_m</td>\n",
       "      <td>1</td>\n",
       "      <td>2015-01-01</td>\n",
       "      <td>11:57:40</td>\n",
       "      <td>mexicana</td>\n",
       "      <td>M</td>\n",
       "      <td>16.00</td>\n",
       "      <td>The Mexicana Pizza</td>\n",
       "      <td>Veggie</td>\n",
       "      <td>Tomatoes, Red Peppers, Jalapeno Peppers, Red Onions, Cilantro, Corn, Chipotle Sauce, Garlic</td>\n",
       "    </tr>\n",
       "  </tbody>\n",
       "</table>\n",
       "</div>"
      ],
      "text/plain": [
       "   order_details_id  order_id       pizza_id  quantity        date      time  \\\n",
       "0                 1         1     hawaiian_m         1  2015-01-01  11:38:36   \n",
       "1                 2         2  classic_dlx_m         1  2015-01-01  11:57:40   \n",
       "2                 3         2  five_cheese_l         1  2015-01-01  11:57:40   \n",
       "3                 4         2    ital_supr_l         1  2015-01-01  11:57:40   \n",
       "4                 5         2     mexicana_m         1  2015-01-01  11:57:40   \n",
       "\n",
       "  pizza_type_id size  price                       name category  \\\n",
       "0      hawaiian    M  13.25         The Hawaiian Pizza  Classic   \n",
       "1   classic_dlx    M  16.00   The Classic Deluxe Pizza  Classic   \n",
       "2   five_cheese    L  18.50      The Five Cheese Pizza   Veggie   \n",
       "3     ital_supr    L  20.75  The Italian Supreme Pizza  Supreme   \n",
       "4      mexicana    M  16.00         The Mexicana Pizza   Veggie   \n",
       "\n",
       "                                                                                    ingredients  \n",
       "0                                                      Sliced Ham, Pineapple, Mozzarella Cheese  \n",
       "1                                          Pepperoni, Mushrooms, Red Onions, Red Peppers, Bacon  \n",
       "2  Mozzarella Cheese, Provolone Cheese, Smoked Gouda Cheese, Romano Cheese, Blue Cheese, Garlic  \n",
       "3                       Calabrese Salami, Capocollo, Tomatoes, Red Onions, Green Olives, Garlic  \n",
       "4   Tomatoes, Red Peppers, Jalapeno Peppers, Red Onions, Cilantro, Corn, Chipotle Sauce, Garlic  "
      ]
     },
     "execution_count": 117,
     "metadata": {},
     "output_type": "execute_result"
    }
   ],
   "source": [
    "# Load Data Frame\n",
    "\n",
    "df=pd.merge(final_order_details, final_pizza, on='pizza_id', how='left')\n",
    "df.head()"
   ]
  },
  {
   "cell_type": "code",
   "execution_count": 118,
   "id": "1648eb56-5740-4ac3-a90e-33ad9ffef484",
   "metadata": {},
   "outputs": [
    {
     "name": "stdout",
     "output_type": "stream",
     "text": [
      "<class 'pandas.core.frame.DataFrame'>\n",
      "RangeIndex: 48620 entries, 0 to 48619\n",
      "Data columns (total 12 columns):\n",
      " #   Column            Non-Null Count  Dtype  \n",
      "---  ------            --------------  -----  \n",
      " 0   order_details_id  48620 non-null  int64  \n",
      " 1   order_id          48620 non-null  int64  \n",
      " 2   pizza_id          48620 non-null  object \n",
      " 3   quantity          48620 non-null  int64  \n",
      " 4   date              48620 non-null  object \n",
      " 5   time              48620 non-null  object \n",
      " 6   pizza_type_id     48620 non-null  object \n",
      " 7   size              48620 non-null  object \n",
      " 8   price             48620 non-null  float64\n",
      " 9   name              48620 non-null  object \n",
      " 10  category          48620 non-null  object \n",
      " 11  ingredients       48620 non-null  object \n",
      "dtypes: float64(1), int64(3), object(8)\n",
      "memory usage: 4.5+ MB\n"
     ]
    }
   ],
   "source": [
    "df.info()"
   ]
  },
  {
   "cell_type": "code",
   "execution_count": 119,
   "id": "5094de47-a62a-4235-8ca4-7a5242a48d04",
   "metadata": {},
   "outputs": [
    {
     "name": "stdout",
     "output_type": "stream",
     "text": [
      "Index(['order_details_id', 'order_id', 'pizza_id', 'quantity', 'date', 'time',\n",
      "       'pizza_type_id', 'size', 'price', 'name', 'category', 'ingredients'],\n",
      "      dtype='object')\n"
     ]
    }
   ],
   "source": [
    "print(df.columns)"
   ]
  },
  {
   "cell_type": "code",
   "execution_count": 120,
   "id": "a7d3a671-e4ca-4194-aa78-afd5b11513b2",
   "metadata": {},
   "outputs": [
    {
     "name": "stdout",
     "output_type": "stream",
     "text": [
      "<class 'pandas.core.frame.DataFrame'>\n",
      "RangeIndex: 48620 entries, 0 to 48619\n",
      "Data columns (total 10 columns):\n",
      " #   Column         Non-Null Count  Dtype  \n",
      "---  ------         --------------  -----  \n",
      " 0   order_id       48620 non-null  int64  \n",
      " 1   quantity       48620 non-null  int64  \n",
      " 2   date           48620 non-null  object \n",
      " 3   time           48620 non-null  object \n",
      " 4   pizza_type_id  48620 non-null  object \n",
      " 5   size           48620 non-null  object \n",
      " 6   price          48620 non-null  float64\n",
      " 7   name           48620 non-null  object \n",
      " 8   category       48620 non-null  object \n",
      " 9   ingredients    48620 non-null  object \n",
      "dtypes: float64(1), int64(2), object(7)\n",
      "memory usage: 3.7+ MB\n"
     ]
    }
   ],
   "source": [
    "df.drop(['order_details_id', 'pizza_id'], axis=1, inplace=True, errors='ignore')\n",
    "df.info()"
   ]
  },
  {
   "cell_type": "code",
   "execution_count": 121,
   "id": "8d6acb41-57d9-4c26-abe3-302e4cd44427",
   "metadata": {},
   "outputs": [
    {
     "data": {
      "text/html": [
       "<div>\n",
       "<style scoped>\n",
       "    .dataframe tbody tr th:only-of-type {\n",
       "        vertical-align: middle;\n",
       "    }\n",
       "\n",
       "    .dataframe tbody tr th {\n",
       "        vertical-align: top;\n",
       "    }\n",
       "\n",
       "    .dataframe thead th {\n",
       "        text-align: right;\n",
       "    }\n",
       "</style>\n",
       "<table border=\"1\" class=\"dataframe\">\n",
       "  <thead>\n",
       "    <tr style=\"text-align: right;\">\n",
       "      <th></th>\n",
       "      <th>order_id</th>\n",
       "      <th>quantity</th>\n",
       "      <th>date</th>\n",
       "      <th>time</th>\n",
       "      <th>pizza_id</th>\n",
       "      <th>size</th>\n",
       "      <th>price</th>\n",
       "      <th>name</th>\n",
       "      <th>category</th>\n",
       "      <th>ingredients</th>\n",
       "    </tr>\n",
       "  </thead>\n",
       "  <tbody>\n",
       "    <tr>\n",
       "      <th>0</th>\n",
       "      <td>1</td>\n",
       "      <td>1</td>\n",
       "      <td>2015-01-01</td>\n",
       "      <td>11:38:36</td>\n",
       "      <td>hawaiian</td>\n",
       "      <td>M</td>\n",
       "      <td>13.25</td>\n",
       "      <td>The Hawaiian Pizza</td>\n",
       "      <td>Classic</td>\n",
       "      <td>Sliced Ham, Pineapple, Mozzarella Cheese</td>\n",
       "    </tr>\n",
       "    <tr>\n",
       "      <th>1</th>\n",
       "      <td>2</td>\n",
       "      <td>1</td>\n",
       "      <td>2015-01-01</td>\n",
       "      <td>11:57:40</td>\n",
       "      <td>classic_dlx</td>\n",
       "      <td>M</td>\n",
       "      <td>16.00</td>\n",
       "      <td>The Classic Deluxe Pizza</td>\n",
       "      <td>Classic</td>\n",
       "      <td>Pepperoni, Mushrooms, Red Onions, Red Peppers, Bacon</td>\n",
       "    </tr>\n",
       "    <tr>\n",
       "      <th>2</th>\n",
       "      <td>2</td>\n",
       "      <td>1</td>\n",
       "      <td>2015-01-01</td>\n",
       "      <td>11:57:40</td>\n",
       "      <td>five_cheese</td>\n",
       "      <td>L</td>\n",
       "      <td>18.50</td>\n",
       "      <td>The Five Cheese Pizza</td>\n",
       "      <td>Veggie</td>\n",
       "      <td>Mozzarella Cheese, Provolone Cheese, Smoked Gouda Cheese, Romano Cheese, Blue Cheese, Garlic</td>\n",
       "    </tr>\n",
       "    <tr>\n",
       "      <th>3</th>\n",
       "      <td>2</td>\n",
       "      <td>1</td>\n",
       "      <td>2015-01-01</td>\n",
       "      <td>11:57:40</td>\n",
       "      <td>ital_supr</td>\n",
       "      <td>L</td>\n",
       "      <td>20.75</td>\n",
       "      <td>The Italian Supreme Pizza</td>\n",
       "      <td>Supreme</td>\n",
       "      <td>Calabrese Salami, Capocollo, Tomatoes, Red Onions, Green Olives, Garlic</td>\n",
       "    </tr>\n",
       "    <tr>\n",
       "      <th>4</th>\n",
       "      <td>2</td>\n",
       "      <td>1</td>\n",
       "      <td>2015-01-01</td>\n",
       "      <td>11:57:40</td>\n",
       "      <td>mexicana</td>\n",
       "      <td>M</td>\n",
       "      <td>16.00</td>\n",
       "      <td>The Mexicana Pizza</td>\n",
       "      <td>Veggie</td>\n",
       "      <td>Tomatoes, Red Peppers, Jalapeno Peppers, Red Onions, Cilantro, Corn, Chipotle Sauce, Garlic</td>\n",
       "    </tr>\n",
       "  </tbody>\n",
       "</table>\n",
       "</div>"
      ],
      "text/plain": [
       "   order_id  quantity        date      time     pizza_id size  price  \\\n",
       "0         1         1  2015-01-01  11:38:36     hawaiian    M  13.25   \n",
       "1         2         1  2015-01-01  11:57:40  classic_dlx    M  16.00   \n",
       "2         2         1  2015-01-01  11:57:40  five_cheese    L  18.50   \n",
       "3         2         1  2015-01-01  11:57:40    ital_supr    L  20.75   \n",
       "4         2         1  2015-01-01  11:57:40     mexicana    M  16.00   \n",
       "\n",
       "                        name category  \\\n",
       "0         The Hawaiian Pizza  Classic   \n",
       "1   The Classic Deluxe Pizza  Classic   \n",
       "2      The Five Cheese Pizza   Veggie   \n",
       "3  The Italian Supreme Pizza  Supreme   \n",
       "4         The Mexicana Pizza   Veggie   \n",
       "\n",
       "                                                                                    ingredients  \n",
       "0                                                      Sliced Ham, Pineapple, Mozzarella Cheese  \n",
       "1                                          Pepperoni, Mushrooms, Red Onions, Red Peppers, Bacon  \n",
       "2  Mozzarella Cheese, Provolone Cheese, Smoked Gouda Cheese, Romano Cheese, Blue Cheese, Garlic  \n",
       "3                       Calabrese Salami, Capocollo, Tomatoes, Red Onions, Green Olives, Garlic  \n",
       "4   Tomatoes, Red Peppers, Jalapeno Peppers, Red Onions, Cilantro, Corn, Chipotle Sauce, Garlic  "
      ]
     },
     "execution_count": 121,
     "metadata": {},
     "output_type": "execute_result"
    }
   ],
   "source": [
    "df.rename({'pizza_type_id':'pizza_id'}, axis=1, inplace=True)\n",
    "df.head()"
   ]
  },
  {
   "cell_type": "code",
   "execution_count": 122,
   "id": "ce8fb4b2-7143-49a8-9b60-5fdf8a21673f",
   "metadata": {},
   "outputs": [
    {
     "name": "stdout",
     "output_type": "stream",
     "text": [
      "<class 'pandas.core.frame.DataFrame'>\n",
      "RangeIndex: 48620 entries, 0 to 48619\n",
      "Data columns (total 10 columns):\n",
      " #   Column       Non-Null Count  Dtype  \n",
      "---  ------       --------------  -----  \n",
      " 0   order_id     48620 non-null  int64  \n",
      " 1   quantity     48620 non-null  int64  \n",
      " 2   date         48620 non-null  object \n",
      " 3   time         48620 non-null  object \n",
      " 4   pizza_id     48620 non-null  object \n",
      " 5   size         48620 non-null  object \n",
      " 6   price        48620 non-null  float64\n",
      " 7   name         48620 non-null  object \n",
      " 8   category     48620 non-null  object \n",
      " 9   ingredients  48620 non-null  object \n",
      "dtypes: float64(1), int64(2), object(7)\n",
      "memory usage: 3.7+ MB\n"
     ]
    }
   ],
   "source": [
    "df.info()"
   ]
  },
  {
   "cell_type": "markdown",
   "id": "f9430806-e2ae-4970-b59f-a7ca50b926b1",
   "metadata": {},
   "source": [
    "## Clean Data"
   ]
  },
  {
   "cell_type": "code",
   "execution_count": 123,
   "id": "86961d7a-83b2-4c07-b32f-adda2a590a0a",
   "metadata": {},
   "outputs": [
    {
     "name": "stdout",
     "output_type": "stream",
     "text": [
      "<class 'pandas.core.frame.DataFrame'>\n",
      "RangeIndex: 48620 entries, 0 to 48619\n",
      "Data columns (total 9 columns):\n",
      " #   Column       Non-Null Count  Dtype  \n",
      "---  ------       --------------  -----  \n",
      " 0   order_id     48620 non-null  int64  \n",
      " 1   quantity     48620 non-null  int64  \n",
      " 2   date         48620 non-null  object \n",
      " 3   time         48620 non-null  object \n",
      " 4   size         48620 non-null  object \n",
      " 5   price        48620 non-null  float64\n",
      " 6   name         48620 non-null  object \n",
      " 7   category     48620 non-null  object \n",
      " 8   ingredients  48620 non-null  object \n",
      "dtypes: float64(1), int64(2), object(6)\n",
      "memory usage: 3.3+ MB\n"
     ]
    }
   ],
   "source": [
    "# Drop unnecessary columns\n",
    "\n",
    "df.drop(['order_details_id', 'pizza_id'], axis=1, inplace=True, errors='ignore')\n",
    "df.info()"
   ]
  },
  {
   "cell_type": "code",
   "execution_count": 124,
   "id": "1dc014c2-763d-41a4-88e6-0311f086ef49",
   "metadata": {},
   "outputs": [
    {
     "name": "stdout",
     "output_type": "stream",
     "text": [
      "<class 'pandas.core.frame.DataFrame'>\n",
      "RangeIndex: 48620 entries, 0 to 48619\n",
      "Data columns (total 9 columns):\n",
      " #   Column       Non-Null Count  Dtype  \n",
      "---  ------       --------------  -----  \n",
      " 0   order_id     48620 non-null  int64  \n",
      " 1   quantity     48620 non-null  int64  \n",
      " 2   date         48620 non-null  object \n",
      " 3   time         48620 non-null  object \n",
      " 4   size         48620 non-null  object \n",
      " 5   price        48620 non-null  float64\n",
      " 6   name         48620 non-null  object \n",
      " 7   category     48620 non-null  object \n",
      " 8   ingredients  48620 non-null  object \n",
      "dtypes: float64(1), int64(2), object(6)\n",
      "memory usage: 3.3+ MB\n"
     ]
    }
   ],
   "source": [
    "df.info()"
   ]
  },
  {
   "cell_type": "code",
   "execution_count": 125,
   "id": "07e7cfdd-90df-4fd8-8afd-59c26ddbabd2",
   "metadata": {},
   "outputs": [
    {
     "data": {
      "text/html": [
       "<div>\n",
       "<style scoped>\n",
       "    .dataframe tbody tr th:only-of-type {\n",
       "        vertical-align: middle;\n",
       "    }\n",
       "\n",
       "    .dataframe tbody tr th {\n",
       "        vertical-align: top;\n",
       "    }\n",
       "\n",
       "    .dataframe thead th {\n",
       "        text-align: right;\n",
       "    }\n",
       "</style>\n",
       "<table border=\"1\" class=\"dataframe\">\n",
       "  <thead>\n",
       "    <tr style=\"text-align: right;\">\n",
       "      <th></th>\n",
       "      <th>order_id</th>\n",
       "      <th>quantity</th>\n",
       "      <th>date</th>\n",
       "      <th>time</th>\n",
       "      <th>size</th>\n",
       "      <th>price</th>\n",
       "      <th>name</th>\n",
       "      <th>category</th>\n",
       "      <th>ingredients</th>\n",
       "    </tr>\n",
       "  </thead>\n",
       "  <tbody>\n",
       "    <tr>\n",
       "      <th>0</th>\n",
       "      <td>1</td>\n",
       "      <td>1</td>\n",
       "      <td>2015-01-01</td>\n",
       "      <td>11:38:36</td>\n",
       "      <td>M</td>\n",
       "      <td>13.25</td>\n",
       "      <td>The Hawaiian Pizza</td>\n",
       "      <td>Classic</td>\n",
       "      <td>Sliced Ham, Pineapple, Mozzarella Cheese</td>\n",
       "    </tr>\n",
       "    <tr>\n",
       "      <th>1</th>\n",
       "      <td>2</td>\n",
       "      <td>1</td>\n",
       "      <td>2015-01-01</td>\n",
       "      <td>11:57:40</td>\n",
       "      <td>M</td>\n",
       "      <td>16.00</td>\n",
       "      <td>The Classic Deluxe Pizza</td>\n",
       "      <td>Classic</td>\n",
       "      <td>Pepperoni, Mushrooms, Red Onions, Red Peppers, Bacon</td>\n",
       "    </tr>\n",
       "    <tr>\n",
       "      <th>2</th>\n",
       "      <td>2</td>\n",
       "      <td>1</td>\n",
       "      <td>2015-01-01</td>\n",
       "      <td>11:57:40</td>\n",
       "      <td>L</td>\n",
       "      <td>18.50</td>\n",
       "      <td>The Five Cheese Pizza</td>\n",
       "      <td>Veggie</td>\n",
       "      <td>Mozzarella Cheese, Provolone Cheese, Smoked Gouda Cheese, Romano Cheese, Blue Cheese, Garlic</td>\n",
       "    </tr>\n",
       "    <tr>\n",
       "      <th>3</th>\n",
       "      <td>2</td>\n",
       "      <td>1</td>\n",
       "      <td>2015-01-01</td>\n",
       "      <td>11:57:40</td>\n",
       "      <td>L</td>\n",
       "      <td>20.75</td>\n",
       "      <td>The Italian Supreme Pizza</td>\n",
       "      <td>Supreme</td>\n",
       "      <td>Calabrese Salami, Capocollo, Tomatoes, Red Onions, Green Olives, Garlic</td>\n",
       "    </tr>\n",
       "    <tr>\n",
       "      <th>4</th>\n",
       "      <td>2</td>\n",
       "      <td>1</td>\n",
       "      <td>2015-01-01</td>\n",
       "      <td>11:57:40</td>\n",
       "      <td>M</td>\n",
       "      <td>16.00</td>\n",
       "      <td>The Mexicana Pizza</td>\n",
       "      <td>Veggie</td>\n",
       "      <td>Tomatoes, Red Peppers, Jalapeno Peppers, Red Onions, Cilantro, Corn, Chipotle Sauce, Garlic</td>\n",
       "    </tr>\n",
       "  </tbody>\n",
       "</table>\n",
       "</div>"
      ],
      "text/plain": [
       "   order_id  quantity        date      time size  price  \\\n",
       "0         1         1  2015-01-01  11:38:36    M  13.25   \n",
       "1         2         1  2015-01-01  11:57:40    M  16.00   \n",
       "2         2         1  2015-01-01  11:57:40    L  18.50   \n",
       "3         2         1  2015-01-01  11:57:40    L  20.75   \n",
       "4         2         1  2015-01-01  11:57:40    M  16.00   \n",
       "\n",
       "                        name category  \\\n",
       "0         The Hawaiian Pizza  Classic   \n",
       "1   The Classic Deluxe Pizza  Classic   \n",
       "2      The Five Cheese Pizza   Veggie   \n",
       "3  The Italian Supreme Pizza  Supreme   \n",
       "4         The Mexicana Pizza   Veggie   \n",
       "\n",
       "                                                                                    ingredients  \n",
       "0                                                      Sliced Ham, Pineapple, Mozzarella Cheese  \n",
       "1                                          Pepperoni, Mushrooms, Red Onions, Red Peppers, Bacon  \n",
       "2  Mozzarella Cheese, Provolone Cheese, Smoked Gouda Cheese, Romano Cheese, Blue Cheese, Garlic  \n",
       "3                       Calabrese Salami, Capocollo, Tomatoes, Red Onions, Green Olives, Garlic  \n",
       "4   Tomatoes, Red Peppers, Jalapeno Peppers, Red Onions, Cilantro, Corn, Chipotle Sauce, Garlic  "
      ]
     },
     "execution_count": 125,
     "metadata": {},
     "output_type": "execute_result"
    }
   ],
   "source": [
    "df.rename({'pizza_type_id':'pizza_id'}, axis=1, inplace=True)\n",
    "df.head()"
   ]
  },
  {
   "cell_type": "code",
   "execution_count": 126,
   "id": "ff53daa6-4a6b-4549-b748-2064481b3bb0",
   "metadata": {},
   "outputs": [
    {
     "name": "stdout",
     "output_type": "stream",
     "text": [
      "<class 'pandas.core.frame.DataFrame'>\n",
      "RangeIndex: 48620 entries, 0 to 48619\n",
      "Data columns (total 9 columns):\n",
      " #   Column       Non-Null Count  Dtype  \n",
      "---  ------       --------------  -----  \n",
      " 0   order_id     48620 non-null  int64  \n",
      " 1   quantity     48620 non-null  int64  \n",
      " 2   date         48620 non-null  object \n",
      " 3   time         48620 non-null  object \n",
      " 4   size         48620 non-null  object \n",
      " 5   price        48620 non-null  float64\n",
      " 6   name         48620 non-null  object \n",
      " 7   category     48620 non-null  object \n",
      " 8   ingredients  48620 non-null  object \n",
      "dtypes: float64(1), int64(2), object(6)\n",
      "memory usage: 3.3+ MB\n"
     ]
    }
   ],
   "source": [
    "df.info()"
   ]
  },
  {
   "cell_type": "code",
   "execution_count": 127,
   "id": "67feedb1-8cd1-4b58-a119-55798eac39c3",
   "metadata": {},
   "outputs": [
    {
     "data": {
      "text/html": [
       "<div>\n",
       "<style scoped>\n",
       "    .dataframe tbody tr th:only-of-type {\n",
       "        vertical-align: middle;\n",
       "    }\n",
       "\n",
       "    .dataframe tbody tr th {\n",
       "        vertical-align: top;\n",
       "    }\n",
       "\n",
       "    .dataframe thead th {\n",
       "        text-align: right;\n",
       "    }\n",
       "</style>\n",
       "<table border=\"1\" class=\"dataframe\">\n",
       "  <thead>\n",
       "    <tr style=\"text-align: right;\">\n",
       "      <th></th>\n",
       "      <th>order_id</th>\n",
       "      <th>pizza_quantity</th>\n",
       "      <th>order_date</th>\n",
       "      <th>order_time</th>\n",
       "      <th>pizza_size</th>\n",
       "      <th>pizza_price</th>\n",
       "      <th>pizza_name</th>\n",
       "      <th>pizza_category</th>\n",
       "      <th>pizza_ingredients</th>\n",
       "    </tr>\n",
       "  </thead>\n",
       "  <tbody>\n",
       "    <tr>\n",
       "      <th>0</th>\n",
       "      <td>1</td>\n",
       "      <td>1</td>\n",
       "      <td>2015-01-01</td>\n",
       "      <td>11:38:36</td>\n",
       "      <td>M</td>\n",
       "      <td>13.25</td>\n",
       "      <td>The Hawaiian Pizza</td>\n",
       "      <td>Classic</td>\n",
       "      <td>Sliced Ham, Pineapple, Mozzarella Cheese</td>\n",
       "    </tr>\n",
       "    <tr>\n",
       "      <th>1</th>\n",
       "      <td>2</td>\n",
       "      <td>1</td>\n",
       "      <td>2015-01-01</td>\n",
       "      <td>11:57:40</td>\n",
       "      <td>M</td>\n",
       "      <td>16.00</td>\n",
       "      <td>The Classic Deluxe Pizza</td>\n",
       "      <td>Classic</td>\n",
       "      <td>Pepperoni, Mushrooms, Red Onions, Red Peppers, Bacon</td>\n",
       "    </tr>\n",
       "    <tr>\n",
       "      <th>2</th>\n",
       "      <td>2</td>\n",
       "      <td>1</td>\n",
       "      <td>2015-01-01</td>\n",
       "      <td>11:57:40</td>\n",
       "      <td>L</td>\n",
       "      <td>18.50</td>\n",
       "      <td>The Five Cheese Pizza</td>\n",
       "      <td>Veggie</td>\n",
       "      <td>Mozzarella Cheese, Provolone Cheese, Smoked Gouda Cheese, Romano Cheese, Blue Cheese, Garlic</td>\n",
       "    </tr>\n",
       "    <tr>\n",
       "      <th>3</th>\n",
       "      <td>2</td>\n",
       "      <td>1</td>\n",
       "      <td>2015-01-01</td>\n",
       "      <td>11:57:40</td>\n",
       "      <td>L</td>\n",
       "      <td>20.75</td>\n",
       "      <td>The Italian Supreme Pizza</td>\n",
       "      <td>Supreme</td>\n",
       "      <td>Calabrese Salami, Capocollo, Tomatoes, Red Onions, Green Olives, Garlic</td>\n",
       "    </tr>\n",
       "    <tr>\n",
       "      <th>4</th>\n",
       "      <td>2</td>\n",
       "      <td>1</td>\n",
       "      <td>2015-01-01</td>\n",
       "      <td>11:57:40</td>\n",
       "      <td>M</td>\n",
       "      <td>16.00</td>\n",
       "      <td>The Mexicana Pizza</td>\n",
       "      <td>Veggie</td>\n",
       "      <td>Tomatoes, Red Peppers, Jalapeno Peppers, Red Onions, Cilantro, Corn, Chipotle Sauce, Garlic</td>\n",
       "    </tr>\n",
       "  </tbody>\n",
       "</table>\n",
       "</div>"
      ],
      "text/plain": [
       "   order_id  pizza_quantity  order_date order_time pizza_size  pizza_price  \\\n",
       "0         1               1  2015-01-01   11:38:36          M        13.25   \n",
       "1         2               1  2015-01-01   11:57:40          M        16.00   \n",
       "2         2               1  2015-01-01   11:57:40          L        18.50   \n",
       "3         2               1  2015-01-01   11:57:40          L        20.75   \n",
       "4         2               1  2015-01-01   11:57:40          M        16.00   \n",
       "\n",
       "                  pizza_name pizza_category  \\\n",
       "0         The Hawaiian Pizza        Classic   \n",
       "1   The Classic Deluxe Pizza        Classic   \n",
       "2      The Five Cheese Pizza         Veggie   \n",
       "3  The Italian Supreme Pizza        Supreme   \n",
       "4         The Mexicana Pizza         Veggie   \n",
       "\n",
       "                                                                              pizza_ingredients  \n",
       "0                                                      Sliced Ham, Pineapple, Mozzarella Cheese  \n",
       "1                                          Pepperoni, Mushrooms, Red Onions, Red Peppers, Bacon  \n",
       "2  Mozzarella Cheese, Provolone Cheese, Smoked Gouda Cheese, Romano Cheese, Blue Cheese, Garlic  \n",
       "3                       Calabrese Salami, Capocollo, Tomatoes, Red Onions, Green Olives, Garlic  \n",
       "4   Tomatoes, Red Peppers, Jalapeno Peppers, Red Onions, Cilantro, Corn, Chipotle Sauce, Garlic  "
      ]
     },
     "execution_count": 127,
     "metadata": {},
     "output_type": "execute_result"
    }
   ],
   "source": [
    "# Rename columns for clarity\n",
    "\n",
    "df.rename({'quantity':'pizza_quantity',\n",
    "           'date':'order_date',\n",
    "           'time':'order_time',\n",
    "           'size':'pizza_size',\n",
    "           'price':'pizza_price',\n",
    "           'name':'pizza_name',\n",
    "           'category':'pizza_category',\n",
    "           'ingredients':'pizza_ingredients'}, axis=1, inplace=True)\n",
    "df.head()"
   ]
  },
  {
   "cell_type": "code",
   "execution_count": 128,
   "id": "9ce421c7-51bc-43cb-aee1-1f8aa18a3c52",
   "metadata": {},
   "outputs": [
    {
     "name": "stdout",
     "output_type": "stream",
     "text": [
      "<class 'pandas.core.frame.DataFrame'>\n",
      "RangeIndex: 48620 entries, 0 to 48619\n",
      "Data columns (total 9 columns):\n",
      " #   Column             Non-Null Count  Dtype  \n",
      "---  ------             --------------  -----  \n",
      " 0   order_id           48620 non-null  int64  \n",
      " 1   pizza_quantity     48620 non-null  int64  \n",
      " 2   order_date         48620 non-null  object \n",
      " 3   order_time         48620 non-null  object \n",
      " 4   pizza_size         48620 non-null  object \n",
      " 5   pizza_price        48620 non-null  float64\n",
      " 6   pizza_name         48620 non-null  object \n",
      " 7   pizza_category     48620 non-null  object \n",
      " 8   pizza_ingredients  48620 non-null  object \n",
      "dtypes: float64(1), int64(2), object(6)\n",
      "memory usage: 3.3+ MB\n"
     ]
    }
   ],
   "source": [
    "df.info()"
   ]
  },
  {
   "cell_type": "markdown",
   "id": "9017e27d-0206-412b-b15c-7ffd156d0ff1",
   "metadata": {},
   "source": [
    "## Most Preferred Pizza Sizes"
   ]
  },
  {
   "cell_type": "code",
   "execution_count": 129,
   "id": "55e85fe5-b25b-4d3a-a844-b5985ae4277d",
   "metadata": {},
   "outputs": [
    {
     "data": {
      "image/png": "[encoded data removed]",
      "text/plain": [
       "<Figure size 600x1000 with 1 Axes>"
      ]
     },
     "metadata": {},
     "output_type": "display_data"
    }
   ],
   "source": [
    "preferred_sizes = df['pizza_size'].value_counts()\n",
    "preferred_sizes.plot.pie(autopct='%1.2f%%', figsize=(6, 10), title='Most Preferred Pizza Sizes')\n",
    "plt.ylabel('')\n",
    "plt.legend(loc='lower left')\n",
    "plt.show()"
   ]
  },
  {
   "cell_type": "raw",
   "id": "608c3742-333c-4c21-ae43-a9d2602ee9d2",
   "metadata": {},
   "source": [
    "OBSERVATION: Large size is the most preferred."
   ]
  },
  {
   "cell_type": "markdown",
   "id": "1b32f865-2149-49a3-8123-1e585a2b0234",
   "metadata": {},
   "source": [
    "## Add Month Column for Monthly Analysis"
   ]
  },
  {
   "cell_type": "code",
   "execution_count": 130,
   "id": "476eabd7-1663-42b6-89a4-00bd6782e2ed",
   "metadata": {},
   "outputs": [
    {
     "data": {
      "text/html": [
       "<div>\n",
       "<style scoped>\n",
       "    .dataframe tbody tr th:only-of-type {\n",
       "        vertical-align: middle;\n",
       "    }\n",
       "\n",
       "    .dataframe tbody tr th {\n",
       "        vertical-align: top;\n",
       "    }\n",
       "\n",
       "    .dataframe thead th {\n",
       "        text-align: right;\n",
       "    }\n",
       "</style>\n",
       "<table border=\"1\" class=\"dataframe\">\n",
       "  <thead>\n",
       "    <tr style=\"text-align: right;\">\n",
       "      <th></th>\n",
       "      <th>order_id</th>\n",
       "      <th>pizza_quantity</th>\n",
       "      <th>order_date</th>\n",
       "      <th>order_time</th>\n",
       "      <th>pizza_size</th>\n",
       "      <th>pizza_price</th>\n",
       "      <th>pizza_name</th>\n",
       "      <th>pizza_category</th>\n",
       "      <th>pizza_ingredients</th>\n",
       "      <th>order_month</th>\n",
       "    </tr>\n",
       "  </thead>\n",
       "  <tbody>\n",
       "    <tr>\n",
       "      <th>48615</th>\n",
       "      <td>21348</td>\n",
       "      <td>1</td>\n",
       "      <td>2015-12-31</td>\n",
       "      <td>21:23:10</td>\n",
       "      <td>M</td>\n",
       "      <td>16.75</td>\n",
       "      <td>The Chicken Alfredo Pizza</td>\n",
       "      <td>Chicken</td>\n",
       "      <td>Chicken, Red Onions, Red Peppers, Mushrooms, Asiago Cheese, Alfredo Sauce</td>\n",
       "      <td>12</td>\n",
       "    </tr>\n",
       "    <tr>\n",
       "      <th>48616</th>\n",
       "      <td>21348</td>\n",
       "      <td>1</td>\n",
       "      <td>2015-12-31</td>\n",
       "      <td>21:23:10</td>\n",
       "      <td>L</td>\n",
       "      <td>17.95</td>\n",
       "      <td>The Four Cheese Pizza</td>\n",
       "      <td>Veggie</td>\n",
       "      <td>Ricotta Cheese, Gorgonzola Piccante Cheese, Mozzarella Cheese, Parmigiano Reggiano Cheese, Garlic</td>\n",
       "      <td>12</td>\n",
       "    </tr>\n",
       "    <tr>\n",
       "      <th>48617</th>\n",
       "      <td>21348</td>\n",
       "      <td>1</td>\n",
       "      <td>2015-12-31</td>\n",
       "      <td>21:23:10</td>\n",
       "      <td>S</td>\n",
       "      <td>12.00</td>\n",
       "      <td>The Napolitana Pizza</td>\n",
       "      <td>Classic</td>\n",
       "      <td>Tomatoes, Anchovies, Green Olives, Red Onions, Garlic</td>\n",
       "      <td>12</td>\n",
       "    </tr>\n",
       "    <tr>\n",
       "      <th>48618</th>\n",
       "      <td>21349</td>\n",
       "      <td>1</td>\n",
       "      <td>2015-12-31</td>\n",
       "      <td>22:09:54</td>\n",
       "      <td>L</td>\n",
       "      <td>20.25</td>\n",
       "      <td>The Mexicana Pizza</td>\n",
       "      <td>Veggie</td>\n",
       "      <td>Tomatoes, Red Peppers, Jalapeno Peppers, Red Onions, Cilantro, Corn, Chipotle Sauce, Garlic</td>\n",
       "      <td>12</td>\n",
       "    </tr>\n",
       "    <tr>\n",
       "      <th>48619</th>\n",
       "      <td>21350</td>\n",
       "      <td>1</td>\n",
       "      <td>2015-12-31</td>\n",
       "      <td>23:02:05</td>\n",
       "      <td>S</td>\n",
       "      <td>12.75</td>\n",
       "      <td>The Barbecue Chicken Pizza</td>\n",
       "      <td>Chicken</td>\n",
       "      <td>Barbecued Chicken, Red Peppers, Green Peppers, Tomatoes, Red Onions, Barbecue Sauce</td>\n",
       "      <td>12</td>\n",
       "    </tr>\n",
       "  </tbody>\n",
       "</table>\n",
       "</div>"
      ],
      "text/plain": [
       "       order_id  pizza_quantity order_date order_time pizza_size  pizza_price  \\\n",
       "48615     21348               1 2015-12-31   21:23:10          M        16.75   \n",
       "48616     21348               1 2015-12-31   21:23:10          L        17.95   \n",
       "48617     21348               1 2015-12-31   21:23:10          S        12.00   \n",
       "48618     21349               1 2015-12-31   22:09:54          L        20.25   \n",
       "48619     21350               1 2015-12-31   23:02:05          S        12.75   \n",
       "\n",
       "                       pizza_name pizza_category  \\\n",
       "48615   The Chicken Alfredo Pizza        Chicken   \n",
       "48616       The Four Cheese Pizza         Veggie   \n",
       "48617        The Napolitana Pizza        Classic   \n",
       "48618          The Mexicana Pizza         Veggie   \n",
       "48619  The Barbecue Chicken Pizza        Chicken   \n",
       "\n",
       "                                                                                       pizza_ingredients  \\\n",
       "48615                          Chicken, Red Onions, Red Peppers, Mushrooms, Asiago Cheese, Alfredo Sauce   \n",
       "48616  Ricotta Cheese, Gorgonzola Piccante Cheese, Mozzarella Cheese, Parmigiano Reggiano Cheese, Garlic   \n",
       "48617                                              Tomatoes, Anchovies, Green Olives, Red Onions, Garlic   \n",
       "48618        Tomatoes, Red Peppers, Jalapeno Peppers, Red Onions, Cilantro, Corn, Chipotle Sauce, Garlic   \n",
       "48619                Barbecued Chicken, Red Peppers, Green Peppers, Tomatoes, Red Onions, Barbecue Sauce   \n",
       "\n",
       "       order_month  \n",
       "48615           12  \n",
       "48616           12  \n",
       "48617           12  \n",
       "48618           12  \n",
       "48619           12  "
      ]
     },
     "execution_count": 130,
     "metadata": {},
     "output_type": "execute_result"
    }
   ],
   "source": [
    "df['order_date'] = pd.to_datetime(df['order_date'])\n",
    "df['order_month'] = df['order_date'].dt.month\n",
    "df.tail()"
   ]
  },
  {
   "cell_type": "markdown",
   "id": "af9c0739-e826-49ba-9d92-7b5304d899b9",
   "metadata": {},
   "source": [
    "## 1. Total Revenue/Sales"
   ]
  },
  {
   "cell_type": "code",
   "execution_count": 131,
   "id": "272a4e2e-e765-4e2c-9d3a-47ea75c0173c",
   "metadata": {},
   "outputs": [
    {
     "name": "stdout",
     "output_type": "stream",
     "text": [
      "Total Revenue: 817860.05\n"
     ]
    }
   ],
   "source": [
    "# Total Revenue/Sales\n",
    "\n",
    "total_revenue = (df['pizza_quantity'] * df['pizza_price']).sum()\n",
    "print(\"Total Revenue:\", total_revenue)"
   ]
  },
  {
   "cell_type": "markdown",
   "id": "d8e6babd-3a84-4a06-bfcc-fcc44bca3452",
   "metadata": {},
   "source": [
    "## 2. Total Quantity Sold"
   ]
  },
  {
   "cell_type": "code",
   "execution_count": 132,
   "id": "7b29704c-5782-4316-8d49-e0dacf703c0d",
   "metadata": {},
   "outputs": [
    {
     "name": "stdout",
     "output_type": "stream",
     "text": [
      "Total Quantity Sold: 49574\n"
     ]
    }
   ],
   "source": [
    "# Total Quantity Sold\n",
    "\n",
    "total_quantity = df['pizza_quantity'].sum()\n",
    "print(\"Total Quantity Sold:\", total_quantity)"
   ]
  },
  {
   "cell_type": "markdown",
   "id": "e5d4a076-525c-4d5f-801e-6486c3e7f812",
   "metadata": {},
   "source": [
    "## 3. Total Orders"
   ]
  },
  {
   "cell_type": "code",
   "execution_count": 133,
   "id": "314f80ce-d43a-4815-80c1-f0cd309401da",
   "metadata": {},
   "outputs": [
    {
     "name": "stdout",
     "output_type": "stream",
     "text": [
      "Total Orders: 21350\n"
     ]
    }
   ],
   "source": [
    "# Total Orders\n",
    "\n",
    "total_orders = df['order_id'].nunique()\n",
    "print(\"Total Orders:\", total_orders)"
   ]
  },
  {
   "cell_type": "markdown",
   "id": "be55f9ad-bada-44a6-9d8b-362811bfd66b",
   "metadata": {},
   "source": [
    "## 4. Number of Pizza Types"
   ]
  },
  {
   "cell_type": "code",
   "execution_count": 134,
   "id": "6888c384-11b6-4187-9379-35fb599d0d22",
   "metadata": {},
   "outputs": [
    {
     "name": "stdout",
     "output_type": "stream",
     "text": [
      "Total Pizza Category: 4\n"
     ]
    }
   ],
   "source": [
    "# Number of Pizza Types\n",
    "\n",
    "total_pizza_category = df['pizza_category'].nunique()\n",
    "print(\"Total Pizza Category:\", total_pizza_category)"
   ]
  },
  {
   "cell_type": "markdown",
   "id": "39b254bc-205c-4c28-a480-5b3973257322",
   "metadata": {},
   "source": [
    "## 5. Average Price of Pizzas"
   ]
  },
  {
   "cell_type": "code",
   "execution_count": 135,
   "id": "d3fc2b30-d883-4e41-8138-a13d165939d6",
   "metadata": {},
   "outputs": [
    {
     "name": "stdout",
     "output_type": "stream",
     "text": [
      "Average Pizza Price: 16.494132044426163\n"
     ]
    }
   ],
   "source": [
    "# Average Price of Pizzas\n",
    "\n",
    "average_pizza_price = df['pizza_price'].mean()\n",
    "print(\"Average Pizza Price:\", average_pizza_price)"
   ]
  },
  {
   "cell_type": "raw",
   "id": "f7ba4445-402d-49af-aad0-d5b443611b73",
   "metadata": {},
   "source": [
    "OBSERVATION: Average Pizza Price: $16"
   ]
  },
  {
   "cell_type": "markdown",
   "id": "473e9ea6-7453-4c96-9398-a29ac169bb46",
   "metadata": {},
   "source": [
    "## 6. Peak Sale Hours"
   ]
  },
  {
   "cell_type": "code",
   "execution_count": 136,
   "id": "46c07cb6-6ab6-4f50-ba0f-fde5682e4b77",
   "metadata": {},
   "outputs": [
    {
     "name": "stdout",
     "output_type": "stream",
     "text": [
      "<class 'pandas.core.frame.DataFrame'>\n",
      "RangeIndex: 48620 entries, 0 to 48619\n",
      "Data columns (total 11 columns):\n",
      " #   Column             Non-Null Count  Dtype         \n",
      "---  ------             --------------  -----         \n",
      " 0   order_id           48620 non-null  int64         \n",
      " 1   pizza_quantity     48620 non-null  int64         \n",
      " 2   order_date         48620 non-null  datetime64[ns]\n",
      " 3   order_time         48620 non-null  datetime64[ns]\n",
      " 4   pizza_size         48620 non-null  object        \n",
      " 5   pizza_price        48620 non-null  float64       \n",
      " 6   pizza_name         48620 non-null  object        \n",
      " 7   pizza_category     48620 non-null  object        \n",
      " 8   pizza_ingredients  48620 non-null  object        \n",
      " 9   order_month        48620 non-null  int32         \n",
      " 10  hour               48620 non-null  int32         \n",
      "dtypes: datetime64[ns](2), float64(1), int32(2), int64(2), object(4)\n",
      "memory usage: 3.7+ MB\n"
     ]
    }
   ],
   "source": [
    "df['order_time'] = pd.to_datetime(df['order_time'])\n",
    "df['hour']= df['order_time'].dt.hour\n",
    "df.info()"
   ]
  },
  {
   "cell_type": "code",
   "execution_count": 137,
   "id": "7edc3243-1187-432f-82d1-712b29c50806",
   "metadata": {},
   "outputs": [
    {
     "data": {
      "text/html": [
       "<div>\n",
       "<style scoped>\n",
       "    .dataframe tbody tr th:only-of-type {\n",
       "        vertical-align: middle;\n",
       "    }\n",
       "\n",
       "    .dataframe tbody tr th {\n",
       "        vertical-align: top;\n",
       "    }\n",
       "\n",
       "    .dataframe thead th {\n",
       "        text-align: right;\n",
       "    }\n",
       "</style>\n",
       "<table border=\"1\" class=\"dataframe\">\n",
       "  <thead>\n",
       "    <tr style=\"text-align: right;\">\n",
       "      <th></th>\n",
       "      <th>percentage</th>\n",
       "      <th>proportion</th>\n",
       "    </tr>\n",
       "  </thead>\n",
       "  <tbody>\n",
       "    <tr>\n",
       "      <th>0</th>\n",
       "      <td>12</td>\n",
       "      <td>13.457425</td>\n",
       "    </tr>\n",
       "    <tr>\n",
       "      <th>1</th>\n",
       "      <td>13</td>\n",
       "      <td>12.758124</td>\n",
       "    </tr>\n",
       "    <tr>\n",
       "      <th>2</th>\n",
       "      <td>18</td>\n",
       "      <td>11.022213</td>\n",
       "    </tr>\n",
       "    <tr>\n",
       "      <th>3</th>\n",
       "      <td>17</td>\n",
       "      <td>10.577951</td>\n",
       "    </tr>\n",
       "    <tr>\n",
       "      <th>4</th>\n",
       "      <td>19</td>\n",
       "      <td>8.946935</td>\n",
       "    </tr>\n",
       "    <tr>\n",
       "      <th>5</th>\n",
       "      <td>16</td>\n",
       "      <td>8.607569</td>\n",
       "    </tr>\n",
       "    <tr>\n",
       "      <th>6</th>\n",
       "      <td>14</td>\n",
       "      <td>7.241876</td>\n",
       "    </tr>\n",
       "    <tr>\n",
       "      <th>7</th>\n",
       "      <td>20</td>\n",
       "      <td>7.171946</td>\n",
       "    </tr>\n",
       "    <tr>\n",
       "      <th>8</th>\n",
       "      <td>15</td>\n",
       "      <td>6.519951</td>\n",
       "    </tr>\n",
       "    <tr>\n",
       "      <th>9</th>\n",
       "      <td>11</td>\n",
       "      <td>5.495681</td>\n",
       "    </tr>\n",
       "    <tr>\n",
       "      <th>10</th>\n",
       "      <td>21</td>\n",
       "      <td>5.199506</td>\n",
       "    </tr>\n",
       "    <tr>\n",
       "      <th>11</th>\n",
       "      <td>22</td>\n",
       "      <td>2.817770</td>\n",
       "    </tr>\n",
       "    <tr>\n",
       "      <th>12</th>\n",
       "      <td>23</td>\n",
       "      <td>0.139860</td>\n",
       "    </tr>\n",
       "    <tr>\n",
       "      <th>13</th>\n",
       "      <td>10</td>\n",
       "      <td>0.034965</td>\n",
       "    </tr>\n",
       "    <tr>\n",
       "      <th>14</th>\n",
       "      <td>9</td>\n",
       "      <td>0.008227</td>\n",
       "    </tr>\n",
       "  </tbody>\n",
       "</table>\n",
       "</div>"
      ],
      "text/plain": [
       "    percentage  proportion\n",
       "0           12   13.457425\n",
       "1           13   12.758124\n",
       "2           18   11.022213\n",
       "3           17   10.577951\n",
       "4           19    8.946935\n",
       "5           16    8.607569\n",
       "6           14    7.241876\n",
       "7           20    7.171946\n",
       "8           15    6.519951\n",
       "9           11    5.495681\n",
       "10          21    5.199506\n",
       "11          22    2.817770\n",
       "12          23    0.139860\n",
       "13          10    0.034965\n",
       "14           9    0.008227"
      ]
     },
     "execution_count": 137,
     "metadata": {},
     "output_type": "execute_result"
    }
   ],
   "source": [
    "# Peak order time \n",
    "\n",
    "df3 = (df['hour'].value_counts(normalize=True)*100).reset_index().rename({'index':'hour', 'hour':'percentage'},axis=1)\n",
    "df3"
   ]
  },
  {
   "cell_type": "code",
   "execution_count": 138,
   "id": "5db47d93-617a-4df1-85f9-40de4aba044c",
   "metadata": {},
   "outputs": [
    {
     "name": "stdout",
     "output_type": "stream",
     "text": [
      "Index(['percentage', 'proportion'], dtype='object')\n"
     ]
    }
   ],
   "source": [
    "print(df3.columns)"
   ]
  },
  {
   "cell_type": "code",
   "execution_count": 139,
   "id": "35fd08bb-defc-4e6f-98ff-52e78fe11055",
   "metadata": {},
   "outputs": [],
   "source": [
    "# Extract hour from the order_time column\n",
    "\n",
    "df['hour'] = pd.to_datetime(df['order_time']).dt.hour\n",
    "\n",
    "# Group by hour and calculate Sales Percentage \n",
    "\n",
    "hourly_sales = df.groupby('hour')['pizza_quantity'].sum()\n",
    "total_sales = hourly_sales.sum()\n",
    "df3 = pd.DataFrame({\n",
    "    'hour': hourly_sales.index,\n",
    "    'percentage': (hourly_sales / total_sales * 100).round(2)\n",
    "})"
   ]
  },
  {
   "cell_type": "code",
   "execution_count": 140,
   "id": "ea96e3b2-b92f-4ac1-9f39-ee8fe3ad12e5",
   "metadata": {},
   "outputs": [
    {
     "data": {
      "image/png": "[encoded data removed]",
      "text/plain": [
       "<Figure size 1600x800 with 1 Axes>"
      ]
     },
     "metadata": {},
     "output_type": "display_data"
    }
   ],
   "source": [
    "plt.figure(figsize=[16, 8])\n",
    "sns.barplot(data=df3, x='hour', y='percentage')\n",
    "plt.title(\"Sales Percentage by Hour\")\n",
    "plt.xlabel(\"Hour of the Day\")\n",
    "plt.ylabel(\"Sales Percentage\")\n",
    "plt.show()"
   ]
  },
  {
   "cell_type": "markdown",
   "id": "ba6b4d98-47d4-4906-b825-c29f2ff5d38c",
   "metadata": {},
   "source": [
    "## 7. Total Daily Sales"
   ]
  },
  {
   "cell_type": "code",
   "execution_count": 141,
   "id": "0968464b-1fde-497b-b919-8c60e311f94c",
   "metadata": {},
   "outputs": [
    {
     "name": "stdout",
     "output_type": "stream",
     "text": [
      "Sales per Day:\n",
      " weekday_name\n",
      "Friday       136073.90\n",
      "Thursday     123528.50\n",
      "Saturday     123182.40\n",
      "Wednesday    114408.40\n",
      "Tuesday      114133.80\n",
      "Monday       107329.55\n",
      "Sunday        99203.50\n",
      "dtype: float64\n",
      "Best Sales Day: Friday\n"
     ]
    }
   ],
   "source": [
    "# Total Daily Sales\n",
    "\n",
    "df['weekday_name'] = pd.to_datetime(df['order_date']).dt.day_name()\n",
    "\n",
    "weekday_sales = df.groupby('weekday_name').apply(lambda x: (x['pizza_quantity'] * x['pizza_price']).sum())\n",
    "weekday_sales = weekday_sales.sort_values(ascending=False)\n",
    "\n",
    "print(\"Sales per Day:\\n\", weekday_sales)\n",
    "print(\"Best Sales Day:\", weekday_sales.idxmax())"
   ]
  },
  {
   "cell_type": "raw",
   "id": "5cfffae5-71b7-4b98-aa25-40435c23f479",
   "metadata": {},
   "source": [
    "OBSERVATION: Customers prefer to eat pizzas on Fridays, but not Sundays. "
   ]
  },
  {
   "cell_type": "markdown",
   "id": "940041db-374f-4c57-8583-acef7321de8a",
   "metadata": {},
   "source": [
    "## 8. Top 5 Bestselling Pizzas"
   ]
  },
  {
   "cell_type": "code",
   "execution_count": 142,
   "id": "dbaa017b-9c9f-406d-aa36-c79bcdc3c973",
   "metadata": {},
   "outputs": [
    {
     "name": "stdout",
     "output_type": "stream",
     "text": [
      "Top 5 Bestselling Pizzas:\n",
      " pizza_name\n",
      "The Classic Deluxe Pizza      2453\n",
      "The Barbecue Chicken Pizza    2432\n",
      "The Hawaiian Pizza            2422\n",
      "The Pepperoni Pizza           2418\n",
      "The Thai Chicken Pizza        2371\n",
      "Name: pizza_quantity, dtype: int64\n"
     ]
    }
   ],
   "source": [
    "# Top 5 Bestselling Pizzas\n",
    "\n",
    "top_5_pizzas = df.groupby('pizza_name')['pizza_quantity'].sum().sort_values(ascending=False).head(5)\n",
    "print(\"Top 5 Bestselling Pizzas:\\n\", top_5_pizzas)"
   ]
  },
  {
   "cell_type": "raw",
   "id": "88483912-bd13-4a5c-a04b-e58affdcc953",
   "metadata": {},
   "source": [
    "OBSERVATION: Classic Deluxe Pizza, Barbecue Chicken Pizza, Hawaiian Pizza, Pepperoni Pizza, and Thai Chicken Pizza are the Top 5 Bestselling Pizzas"
   ]
  },
  {
   "cell_type": "markdown",
   "id": "3fca2933-05d7-434c-96b0-99feb2d2bc3f",
   "metadata": {},
   "source": [
    "## 9. Monthly Sales"
   ]
  },
  {
   "cell_type": "code",
   "execution_count": 143,
   "id": "b0cbd3e9-da74-4cca-90d9-7122b625f55d",
   "metadata": {},
   "outputs": [
    {
     "name": "stdout",
     "output_type": "stream",
     "text": [
      "Monthly Sales:\n",
      " order_month\n",
      "1     69793.30\n",
      "2     65159.60\n",
      "3     70397.10\n",
      "4     68736.80\n",
      "5     71402.75\n",
      "6     68230.20\n",
      "7     72557.90\n",
      "8     68278.25\n",
      "9     64180.05\n",
      "10    64027.60\n",
      "11    70395.35\n",
      "12    64701.15\n",
      "dtype: float64\n"
     ]
    },
    {
     "data": {
      "text/plain": [
       "<Axes: title={'center': 'Monthly Sales Trend'}, xlabel='order_month'>"
      ]
     },
     "execution_count": 143,
     "metadata": {},
     "output_type": "execute_result"
    },
    {
     "data": {
      "image/png": "[encoded data removed]",
      "text/plain": [
       "<Figure size 640x480 with 1 Axes>"
      ]
     },
     "metadata": {},
     "output_type": "display_data"
    }
   ],
   "source": [
    "# Monthly Sales\n",
    "\n",
    "monthly_sales = df.groupby('order_month').apply(lambda x: (x['pizza_quantity'] * x['pizza_price']).sum())\n",
    "print(\"Monthly Sales:\\n\", monthly_sales)\n",
    "\n",
    "# Show plot:\n",
    "monthly_sales.plot(kind='line', title='Monthly Sales Trend')"
   ]
  },
  {
   "cell_type": "markdown",
   "id": "ae38b78e-cfd7-427b-9a4e-0273369be0ca",
   "metadata": {},
   "source": [
    "## 10. Low-Performing Pizzas"
   ]
  },
  {
   "cell_type": "code",
   "execution_count": 144,
   "id": "363ad76c-762d-46e4-b877-5bbb7815a900",
   "metadata": {},
   "outputs": [
    {
     "name": "stdout",
     "output_type": "stream",
     "text": [
      "Low Performing Pizzas:\n",
      " pizza_name\n",
      "The Brie Carre Pizza         490\n",
      "The Mediterranean Pizza      934\n",
      "The Calabrese Pizza          937\n",
      "The Spinach Supreme Pizza    950\n",
      "The Soppressata Pizza        961\n",
      "Name: pizza_quantity, dtype: int64\n"
     ]
    }
   ],
   "source": [
    "# Low-Performing Pizzas\n",
    "\n",
    "low_performing_pizzas = df.groupby('pizza_name')['pizza_quantity'].sum().sort_values().head(5)\n",
    "print(\"Low Performing Pizzas:\\n\", low_performing_pizzas)"
   ]
  },
  {
   "cell_type": "raw",
   "id": "a9a84f3b-0c8d-4aba-aa46-3fb6ed7a1395",
   "metadata": {},
   "source": [
    "OBSERVATION: Brie Carre Pizza, Mediterranean Pizza, Calabrese Pizza, Spinach Supreme Pizza, and Soppressata Pizza are the low performing pizzas"
   ]
  },
  {
   "cell_type": "code",
   "execution_count": null,
   "id": "e6989b41-7803-4770-9efe-a96394b5617b",
   "metadata": {},
   "outputs": [],
   "source": []
  }
 ],
 "metadata": {
  "kernelspec": {
   "display_name": "anaconda-panel-2023.05-py310",
   "language": "python",
   "name": "conda-env-anaconda-panel-2023.05-py310-py"
  },
  "language_info": {
   "codemirror_mode": {
    "name": "ipython",
    "version": 3
   },
   "file_extension": ".py",
   "mimetype": "text/x-python",
   "name": "python",
   "nbconvert_exporter": "python",
   "pygments_lexer": "ipython3",
   "version": "3.11.5"
  }
 },
 "nbformat": 4,
 "nbformat_minor": 5
}
